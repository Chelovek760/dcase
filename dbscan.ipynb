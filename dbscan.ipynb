{
 "cells": [
  {
   "cell_type": "code",
   "execution_count": 29,
   "outputs": [
    {
     "name": "stdout",
     "output_type": "stream",
     "text": [
      "          0         1         2         3         4         5         6    7  \\\n",
      "0  0.010205 -0.000714  0.764191  3.266572 -2.771960  0.151625 -0.010239  0.0   \n",
      "1 -0.004660  0.009461  0.404351  1.229979 -1.293009 -0.036208 -0.189748  0.0   \n",
      "2  0.010399 -0.008833  1.012830  3.647753 -3.306656 -0.017148  0.121802  0.0   \n",
      "3  0.010542  0.002500  0.772928  3.049215 -2.793925  0.002737  0.272148  0.0   \n",
      "4 -0.008608  0.017547  1.490998  4.458469 -5.519776 -0.042139  0.032567  0.0   \n",
      "\n",
      "          8         9  ...         54   55        56        57        58  \\\n",
      "0  0.013670  0.041167  ...   0.193352  0.0  0.000254  0.000543  0.060377   \n",
      "1 -0.000637  0.013044  ...  16.127926  0.0  0.000026  0.000017  0.043909   \n",
      "2  0.002258  0.008306  ...   0.014916  0.0 -0.000087 -0.000059  0.030047   \n",
      "3 -0.004126  0.000280  ...   0.028037  0.0 -0.000147 -0.000683  0.169666   \n",
      "4  0.001472 -0.012448  ...   1.336109  0.0 -0.000019 -0.000065  0.017297   \n",
      "\n",
      "         59        60        61         62   63  \n",
      "0  0.237324 -0.233477  0.003579  -0.016090  0.0  \n",
      "1  0.728192 -0.799458 -0.178037  36.813440  0.0  \n",
      "2  0.289563 -0.328616 -0.036667  10.969563  0.0  \n",
      "3  0.739424 -0.728566  0.018195   0.113507  0.0  \n",
      "4  0.206314 -0.216947 -0.052702  11.814520  0.0  \n",
      "\n",
      "[5 rows x 64 columns]\n",
      "          0         1         2         3         4         5         6    7  \\\n",
      "0  0.005572  0.023168  0.921890  2.800881 -2.791751 -0.076642  0.000715  0.0   \n",
      "1 -0.003868 -0.021001  1.122619  4.248921 -3.464811  0.089169  0.032073  0.0   \n",
      "2 -0.000889  0.016989  1.307978  3.308072 -3.154456 -0.001699 -0.971424  0.0   \n",
      "3 -0.015005 -0.029996  1.559760  4.167205 -4.405304 -0.041791 -0.443297  0.0   \n",
      "4 -0.001775  0.008009  1.884458  5.160885 -4.653916  0.050210 -0.425698  0.0   \n",
      "\n",
      "          8         9  ...        54   55        56        57        58  \\\n",
      "0 -0.004356  0.002457  ... -0.017314  0.0 -0.000036  0.000035  0.031851   \n",
      "1 -0.001964 -0.025768  ...  0.119007  0.0  0.000007  0.000025  0.029936   \n",
      "2 -0.000225  0.153234  ...  0.027771  0.0 -0.000367 -0.000429  0.057711   \n",
      "3 -0.000290  0.044010  ...  0.354993  0.0 -0.000005 -0.000015  0.019313   \n",
      "4  0.011424  0.100970  ...  0.310250  0.0 -0.000007  0.000011  0.017087   \n",
      "\n",
      "         59        60        61         62   63  \n",
      "0  0.137175 -0.134968  0.007274  -0.049374  0.0  \n",
      "1  0.184695 -0.168128  0.005353   0.413006  0.0  \n",
      "2  0.235331 -0.244934  0.012703   0.029778  0.0  \n",
      "3  0.189723 -0.180381 -0.023558  13.044795  0.0  \n",
      "4  0.217883 -0.209914 -0.034202  21.277619  0.0  \n",
      "\n",
      "[5 rows x 64 columns]\n"
     ]
    }
   ],
   "source": [
    "import pandas as pd\n",
    "from sklearn.svm import OneClassSVM\n",
    "import numpy as np\n",
    "X=pd.read_csv('Train_Dcase_Bulat_feats_tran.csv',index_col=0)\n",
    "X=X.replace([np.inf, -np.inf], 0)\n",
    "X_test=pd.read_csv('Train_Dcase_Bulat_feats.csv',index_col=0)\n",
    "X_test=X_test.replace([np.inf, -np.inf], 0)\n",
    "print(X.head())\n",
    "print(X_test.head())\n",
    "model=OneClassSVM()\n",
    "# grid = GridSearchCV(model, param_grid={}, cv=5)\n",
    "# resg=grid.fit(X,y)\n",
    "estim=model.fit(X)\n",
    "res=estim.predict(X_test)\n"
   ],
   "metadata": {
    "collapsed": false,
    "pycharm": {
     "name": "#%%\n"
    }
   }
  },
  {
   "cell_type": "code",
   "execution_count": 30,
   "outputs": [
    {
     "name": "stdout",
     "output_type": "stream",
     "text": [
      "     0\n",
      "0  0.0\n",
      "1  0.0\n",
      "2  0.0\n",
      "3  0.0\n",
      "4  0.0\n",
      "[0. 0. 0. ... 1. 1. 1.] [ 1  1 -1 ...  1 -1  1]\n",
      "0.5249152542372881\n"
     ]
    }
   ],
   "source": [
    "df=pd.read_csv('y_test_std.csv',index_col=0)\n",
    "print(df.head())\n",
    "y_test=df.to_numpy()[:,0]\n",
    "print(y_test,res)\n",
    "from sklearn.metrics import roc_auc_score,f1_score\n",
    "y_test[y_test == 1] = 1\n",
    "y_test[y_test == 0] = -1\n",
    "print(roc_auc_score(y_test,res))"
   ],
   "metadata": {
    "collapsed": false,
    "pycharm": {
     "name": "#%%\n"
    }
   }
  },
  {
   "cell_type": "code",
   "execution_count": 19,
   "outputs": [
    {
     "name": "stdout",
     "output_type": "stream",
     "text": [
      "0.3317683881064163\n"
     ]
    }
   ],
   "source": [
    "print(f1_score(y_test,res))"
   ],
   "metadata": {
    "collapsed": false,
    "pycharm": {
     "name": "#%%\n"
    }
   }
  }
 ],
 "metadata": {
  "kernelspec": {
   "display_name": "Python 3",
   "language": "python",
   "name": "python3"
  },
  "language_info": {
   "codemirror_mode": {
    "name": "ipython",
    "version": 2
   },
   "file_extension": ".py",
   "mimetype": "text/x-python",
   "name": "python",
   "nbconvert_exporter": "python",
   "pygments_lexer": "ipython2",
   "version": "2.7.6"
  }
 },
 "nbformat": 4,
 "nbformat_minor": 0
}