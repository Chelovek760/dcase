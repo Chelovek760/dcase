{
 "cells": [
  {
   "cell_type": "code",
   "execution_count": 4,
   "outputs": [
    {
     "name": "stdout",
     "output_type": "stream",
     "text": [
      "         mean        std         max        min      skew  kurtosis   entropy  \\\n",
      "0  219.998703  55.862926  429.440979  70.825111  0.051904  0.789913  7.350475   \n",
      "1  218.493210  55.428898  427.110535  56.467548  0.278100  1.126898  7.351100   \n",
      "2  215.893570  53.205425  425.438690  68.999092  0.106679  0.847886  7.352636   \n",
      "3  216.617233  53.696064  427.965149  65.060959  0.061846  0.772063  7.352137   \n",
      "4  217.644852  55.697174  426.797699  59.425156  0.122105  0.978640  7.350031   \n",
      "\n",
      "        fsd       fsf       fss    fsflat    y  ind  num  \n",
      "0  0.008639  4.708440  0.678946  0.967746  1.0  0.0  0.0  \n",
      "1  0.009159  5.414819  0.680757  0.974483  1.0  0.0  0.0  \n",
      "2  0.010441  4.536380  0.879031  0.972712  1.0  0.0  0.0  \n",
      "3  0.007336  4.390009  0.775871  0.972706  1.0  0.0  0.0  \n",
      "4  0.008588  5.064469  0.785413  0.968105  1.0  0.0  0.0  \n",
      "         mean        std         max        min      skew  kurtosis   entropy  \\\n",
      "0  219.998703  55.862926  429.440979  70.825111  0.051904  0.789913  7.350475   \n",
      "1  218.493210  55.428898  427.110535  56.467548  0.278100  1.126898  7.351100   \n",
      "2  215.893570  53.205425  425.438690  68.999092  0.106679  0.847886  7.352636   \n",
      "3  216.617233  53.696064  427.965149  65.060959  0.061846  0.772063  7.352137   \n",
      "4  217.644852  55.697174  426.797699  59.425156  0.122105  0.978640  7.350031   \n",
      "\n",
      "        fsd       fsf       fss    fsflat  \n",
      "0  0.008639  4.708440  0.678946  0.967746  \n",
      "1  0.009159  5.414819  0.680757  0.974483  \n",
      "2  0.010441  4.536380  0.879031  0.972712  \n",
      "3  0.007336  4.390009  0.775871  0.972706  \n",
      "4  0.008588  5.064469  0.785413  0.968105  \n"
     ]
    }
   ],
   "source": [
    "from sklearn.svm import OneClassSVM\n",
    "from sklearn.preprocessing import StandardScaler\n",
    "import seaborn as sns\n",
    "from sklearn.decomposition import PCA\n",
    "import numpy as np\n",
    "import pandas as pd\n",
    "from sklearn.metrics import roc_auc_score,f1_score\n",
    "X=pd.read_csv(r'D:\\Ботать\\Работа\\dcase\\dev_data\\csv_5\\train\\Xg_train.csv',index_col=0,header=0)\n",
    "Xb=pd.read_csv(r'D:\\Ботать\\Работа\\dcase\\dev_data\\csv_5\\train\\Xb_train.csv',index_col=0,header=0)\n",
    "X_test=pd.read_csv(r'D:\\Ботать\\Работа\\dcase\\dev_data\\csv_5\\test\\Xg_test.csv',index_col=0,header=0)\n",
    "Xb_test=pd.read_csv(r'D:\\Ботать\\Работа\\dcase\\dev_data\\csv_5\\test\\Xg_test.csv',index_col=0,header=0)\n",
    "print(X.head())\n",
    "Y=X[['y',  'ind',  'num' ]]\n",
    "X=X.drop(columns=['y',  'ind',  'num' ])\n",
    "Yb=Xb[['y',  'ind',  'num' ]]\n",
    "Xb=Xb.drop(columns=['y',  'ind',  'num' ])\n",
    "Y_test=X_test[['y',  'ind',  'num' ]]\n",
    "X_test=X_test.drop(columns=['y',  'ind',  'num' ])\n",
    "Yb_test=Xb_test[['y',  'ind',  'num' ]]\n",
    "Xb_test=Xb_test.drop(columns=['y',  'ind',  'num' ])\n",
    "print(X.head())"
   ],
   "metadata": {
    "collapsed": false,
    "pycharm": {
     "name": "#%%\n"
    }
   }
  },
  {
   "cell_type": "code",
   "execution_count": 8,
   "outputs": [
    {
     "name": "stdout",
     "output_type": "stream",
     "text": [
      "mean\n",
      "0.5052359056392032\n",
      "std\n",
      "0.5275671771701832\n",
      "max\n",
      "0.49224745680068577\n",
      "min\n",
      "0.501477559278028\n",
      "skew\n",
      "0.5151099304270235\n",
      "kurtosis\n",
      "0.5145136918343093\n",
      "entropy\n",
      "0.5115243610031318\n",
      "fsd\n",
      "0.4949805576619506\n",
      "fsf\n",
      "0.49692442192795483\n",
      "fss\n",
      "0.5281445961370745\n",
      "fsflat\n",
      "0.5122996836703316\n"
     ]
    }
   ],
   "source": [
    "from sklearn.ensemble import IsolationForest\n",
    "model0=model = OneClassSVM()\n",
    "sc=StandardScaler()\n",
    "sc.fit(X)\n",
    "X=sc.transform(X)\n",
    "X_test=sc.transform(X_test)\n",
    "pca = PCA(n_components=3)\n",
    "fit = pca.fit(X)\n",
    "X = fit.transform(X)\n",
    "X_test=fit.transform(X_test)\n",
    "model0.fit(X)"
   ],
   "metadata": {
    "collapsed": false,
    "pycharm": {
     "name": "#%%\n"
    }
   }
  },
  {
   "cell_type": "code",
   "execution_count": 10,
   "outputs": [
    {
     "name": "stdout",
     "output_type": "stream",
     "text": [
      "0.5128958125605907\n"
     ]
    }
   ],
   "source": [
    "# sc=StandardScaler()\n",
    "# sc.fit(W)\n",
    "# W=sc.transform(W)\n",
    "res=model.predict(X_test)\n",
    "y_test=Yb_test['y']\n",
    "y_test[y_test == 0] = -1\n",
    "print(roc_auc_score(y_test,res))\n",
    "print(f1_score(y_test,res))"
   ],
   "metadata": {
    "collapsed": false,
    "pycharm": {
     "name": "#%%\n"
    }
   }
  }
 ],
 "metadata": {
  "kernelspec": {
   "display_name": "Python 3",
   "language": "python",
   "name": "python3"
  },
  "language_info": {
   "codemirror_mode": {
    "name": "ipython",
    "version": 2
   },
   "file_extension": ".py",
   "mimetype": "text/x-python",
   "name": "python",
   "nbconvert_exporter": "python",
   "pygments_lexer": "ipython2",
   "version": "2.7.6"
  }
 },
 "nbformat": 4,
 "nbformat_minor": 0
}