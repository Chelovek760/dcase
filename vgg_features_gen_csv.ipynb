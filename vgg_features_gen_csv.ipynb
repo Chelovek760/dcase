{
 "cells": [
  {
   "cell_type": "code",
   "execution_count": 1,
   "metadata": {
    "collapsed": true
   },
   "outputs": [
    {
     "name": "stderr",
     "output_type": "stream",
     "text": [
      "Using TensorFlow backend.\n",
      "d:\\projects\\dcase\\venv\\lib\\site-packages\\librosa\\util\\decorators.py:9: NumbaDeprecationWarning: \u001B[1mAn import was requested from a module that has moved location.\n",
      "Import requested from: 'numba.decorators', please update to use 'numba.core.decorators' or pin to Numba version 0.48.0. This alias will not be present in Numba version 0.50.0.\u001B[0m\n",
      "  from numba.decorators import jit as optional_jit\n",
      "d:\\projects\\dcase\\venv\\lib\\site-packages\\librosa\\util\\decorators.py:9: NumbaDeprecationWarning: \u001B[1mAn import was requested from a module that has moved location.\n",
      "Import of 'jit' requested from: 'numba.decorators', please update to use 'numba.core.decorators' or pin to Numba version 0.48.0. This alias will not be present in Numba version 0.50.0.\u001B[0m\n",
      "  from numba.decorators import jit as optional_jit\n"
     ]
    }
   ],
   "source": [
    "import matplotlib.pyplot as plt\n",
    "import numpy as np\n",
    "import pandas as pd\n",
    "from config import TRAIN_WAV_DIR,DCASE_CSV_DIR_TRAIN\n",
    "import pathlib\n",
    "from tqdm import tqdm\n",
    "from keras.applications.inception_resnet_v2 import InceptionResNetV2\n",
    "from keras.applications.inception_resnet_v2 import preprocess_input as res_in\n",
    "from keras.applications.vgg19 import VGG19\n",
    "from keras.preprocessing import image\n",
    "from keras.applications.vgg19 import preprocess_input\n",
    "from keras.models import Model\n",
    "import librosa\n",
    "from PIL import Image\n",
    "import cv2"
   ]
  },
  {
   "cell_type": "code",
   "execution_count": 2,
   "outputs": [],
   "source": [
    "base_model = InceptionResNetV2(weights='imagenet')\n",
    "model = Model(inputs=base_model.input, outputs=base_model.output)"
   ],
   "metadata": {
    "collapsed": false,
    "pycharm": {
     "name": "#%%\n"
    }
   }
  },
  {
   "cell_type": "code",
   "execution_count": 3,
   "outputs": [
    {
     "name": "stderr",
     "output_type": "stream",
     "text": [
      "100%|██████████| 3675/3675 [04:25<00:00, 13.84it/s]\n"
     ]
    }
   ],
   "source": [
    "from keras.backend import set_image_data_format\n",
    "set_image_data_format('channels_last')\n",
    "directory = TRAIN_WAV_DIR\n",
    "files = pathlib.Path(directory)\n",
    "files = list(files.glob('*.wav'))\n",
    "for num,wav in tqdm(enumerate(files),total=len(files)):\n",
    "    name=wav.stem.split('_')[0]\n",
    "    id_wav=int(wav.stem.split('_')[2])\n",
    "    num_id_wav=int(wav.stem.split('_')[3])\n",
    "    if name=='normal':\n",
    "        y=1\n",
    "    else:\n",
    "        y=0\n",
    "\n",
    "    sig, sr =librosa.load(wav, sr=None, mono=True)\n",
    "    mel_spectrogram = librosa.feature.melspectrogram(y=sig,\n",
    "                                                     sr=sr,\n",
    "                                                     n_fft=1024,\n",
    "                                                     hop_length=512,)\n",
    "    img = Image.fromarray(mel_spectrogram,mode='RGB')\n",
    "    imgUMat = np.float32(img)\n",
    "    x = cv2.resize(imgUMat, dsize=(299, 299), interpolation=cv2.INTER_CUBIC)\n",
    "    x = image.img_to_array(x)\n",
    "    x = np.expand_dims(x, axis=0)\n",
    "    x = res_in(x)\n",
    "    flatten = model.predict(x)\n",
    "    if num==0:\n",
    "        feat_name=[str(i) for i in range(flatten.shape[1])]\n",
    "        col=feat_name+['y']+['ind']+['num']\n",
    "        data=np.zeros((len(files),len(col)))\n",
    "        X_b=pd.DataFrame(data)\n",
    "        X_b.columns=col\n",
    "    X_b.loc[num,feat_name]=flatten\n",
    "    X_b.loc[num,'y']=y\n",
    "    X_b.loc[num,'ind']=id_wav\n",
    "    X_b.loc[num,'num']=num_id_wav"
   ],
   "metadata": {
    "collapsed": false,
    "pycharm": {
     "name": "#%%\n"
    }
   }
  },
  {
   "cell_type": "code",
   "execution_count": 4,
   "outputs": [
    {
     "name": "stdout",
     "output_type": "stream",
     "text": [
      "D:\\Projects\\dcase\\thrash\\csv_incepcion_features\\train\\\n"
     ]
    }
   ],
   "source": [
    "print(DCASE_CSV_DIR_TRAIN)\n",
    "X_b.to_csv(DCASE_CSV_DIR_TRAIN+'Xtrain.csv')"
   ],
   "metadata": {
    "collapsed": false,
    "pycharm": {
     "name": "#%%\n"
    }
   }
  },
  {
   "cell_type": "code",
   "execution_count": 7,
   "outputs": [
    {
     "name": "stderr",
     "output_type": "stream",
     "text": [
      "100%|██████████| 1875/1875 [01:58<00:00, 15.76it/s]\n"
     ]
    }
   ],
   "source": [
    "from config import TEST_WAV_DIR,DCASE_CSV_DIR_TEST\n",
    "directory = TEST_WAV_DIR\n",
    "files = pathlib.Path(directory)\n",
    "files = list(files.glob('*.wav'))\n",
    "count_good=0\n",
    "count_bad=0\n",
    "for num,wav in tqdm(enumerate(files),total=len(files)):\n",
    "    name=wav.stem.split('_')[0]\n",
    "    id_wav=int(wav.stem.split('_')[2])\n",
    "    num_id_wav=int(wav.stem.split('_')[3])\n",
    "    if name=='normal':\n",
    "        y=1\n",
    "    else:\n",
    "        y=0\n",
    "    sig, sr =librosa.load(wav, sr=None, mono=True)\n",
    "    mel_spectrogram = librosa.feature.melspectrogram(y=sig,\n",
    "                                                     sr=sr,\n",
    "                                                     n_fft=1024,\n",
    "                                                     hop_length=512,)\n",
    "    img = Image.fromarray(mel_spectrogram,mode='RGB')\n",
    "    imgUMat = np.float32(img)\n",
    "    x = cv2.resize(imgUMat, dsize=(299, 299), interpolation=cv2.INTER_CUBIC)\n",
    "    x = image.img_to_array(x)\n",
    "    x = np.expand_dims(x, axis=0)\n",
    "    x = res_in(x)\n",
    "    flatten = model.predict(x)\n",
    "    if num==0:\n",
    "        feat_name=[str(i) for i in range(flatten.shape[1])]\n",
    "        col=feat_name+['y']+['ind']+['num']\n",
    "        data=np.zeros((len(files),len(col)))\n",
    "        X_b=pd.DataFrame(data)\n",
    "        X_b.columns=col\n",
    "    X_b.loc[num,feat_name]=flatten\n",
    "    X_b.loc[num,'y']=y\n",
    "    X_b.loc[num,'ind']=id_wav\n",
    "    X_b.loc[num,'num']=num_id_wav"
   ],
   "metadata": {
    "collapsed": false,
    "pycharm": {
     "name": "#%%\n"
    }
   }
  },
  {
   "cell_type": "code",
   "execution_count": 8,
   "outputs": [],
   "source": [
    "X_b.to_csv(DCASE_CSV_DIR_TEST+'Xtest.csv')"
   ],
   "metadata": {
    "collapsed": false,
    "pycharm": {
     "name": "#%%\n"
    }
   }
  }
 ],
 "metadata": {
  "kernelspec": {
   "display_name": "Python 3",
   "language": "python",
   "name": "python3"
  },
  "language_info": {
   "codemirror_mode": {
    "name": "ipython",
    "version": 2
   },
   "file_extension": ".py",
   "mimetype": "text/x-python",
   "name": "python",
   "nbconvert_exporter": "python",
   "pygments_lexer": "ipython2",
   "version": "2.7.6"
  }
 },
 "nbformat": 4,
 "nbformat_minor": 0
}