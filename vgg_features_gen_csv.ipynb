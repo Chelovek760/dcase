{
 "cells": [
  {
   "cell_type": "code",
   "execution_count": 8,
   "metadata": {
    "collapsed": true
   },
   "outputs": [],
   "source": [
    "import matplotlib.pyplot as plt\n",
    "import numpy as np\n",
    "import pandas as pd\n",
    "from saparator import Buono_Brutto_Cattivo\n",
    "from config import TRAIN_WAV_DIR,DCASE_CSV_DIR_TRAIN\n",
    "import pathlib\n",
    "from tqdm import tqdm\n",
    "from keras.applications.vgg19 import VGG19\n",
    "from keras.preprocessing import image\n",
    "from keras.applications.vgg19 import preprocess_input\n",
    "from keras.models import Model\n",
    "import librosa\n",
    "from PIL import Image\n",
    "import cv2"
   ]
  },
  {
   "cell_type": "code",
   "execution_count": 9,
   "outputs": [],
   "source": [
    "base_model = VGG19(weights='imagenet')\n",
    "model = Model(inputs=base_model.input, outputs=base_model.get_layer('flatten').output)"
   ],
   "metadata": {
    "collapsed": false,
    "pycharm": {
     "name": "#%%\n"
    }
   }
  },
  {
   "cell_type": "code",
   "execution_count": 10,
   "outputs": [
    {
     "name": "stderr",
     "output_type": "stream",
     "text": [
      "100%|██████████| 3675/3675 [02:37<00:00, 23.30it/s]\n"
     ]
    }
   ],
   "source": [
    "from keras.backend import set_image_data_format\n",
    "set_image_data_format('channels_last')\n",
    "directory = TRAIN_WAV_DIR\n",
    "files = pathlib.Path(directory)\n",
    "files = list(files.glob('*.wav'))\n",
    "for num,wav in tqdm(enumerate(files),total=len(files)):\n",
    "    name=wav.stem.split('_')[0]\n",
    "    id_wav=int(wav.stem.split('_')[2])\n",
    "    num_id_wav=int(wav.stem.split('_')[3])\n",
    "    if name=='normal':\n",
    "        y=1\n",
    "    else:\n",
    "        y=0\n",
    "\n",
    "    sig, sr =librosa.load(wav, sr=None, mono=True)\n",
    "    mel_spectrogram = librosa.feature.melspectrogram(y=sig,\n",
    "                                                     sr=sr,\n",
    "                                                     n_fft=1024,\n",
    "                                                     hop_length=512,)\n",
    "    img = Image.fromarray(mel_spectrogram,mode='RGB')\n",
    "    imgUMat = np.float32(img)\n",
    "    x = cv2.resize(imgUMat, dsize=(224, 224), interpolation=cv2.INTER_CUBIC)\n",
    "    x = image.img_to_array(x)\n",
    "    x = np.expand_dims(x, axis=0)\n",
    "    x = preprocess_input(x)\n",
    "    flatten = model.predict(x)\n",
    "    if num==0:\n",
    "        feat_name=[str(i) for i in range(flatten.shape[1])]\n",
    "        col=feat_name+['y']+['ind']+['num']\n",
    "        data=np.zeros((len(files),len(col)))\n",
    "        X_b=pd.DataFrame(data)\n",
    "        X_b.columns=col\n",
    "    X_b.loc[num,feat_name]=flatten\n",
    "    X_b.loc[num,'y']=y\n",
    "    X_b.loc[num,'ind']=id_wav\n",
    "    X_b.loc[num,'num']=num_id_wav"
   ],
   "metadata": {
    "collapsed": false,
    "pycharm": {
     "name": "#%%\n"
    }
   }
  },
  {
   "cell_type": "code",
   "execution_count": 11,
   "outputs": [
    {
     "name": "stdout",
     "output_type": "stream",
     "text": [
      "D:\\Ботать\\Работа\\dcase\\thrash\\csv_vgg19_features\\train\\\n"
     ]
    }
   ],
   "source": [
    "print(DCASE_CSV_DIR_TRAIN)\n",
    "X_b=X_b.loc[~(X_b==0).all(axis=1)]\n",
    "X_b.to_csv(DCASE_CSV_DIR_TRAIN+'Xtrain.csv')"
   ],
   "metadata": {
    "collapsed": false,
    "pycharm": {
     "name": "#%%\n"
    }
   }
  },
  {
   "cell_type": "code",
   "execution_count": 12,
   "outputs": [
    {
     "name": "stderr",
     "output_type": "stream",
     "text": [
      "100%|██████████| 1875/1875 [01:20<00:00, 23.29it/s]\n"
     ]
    }
   ],
   "source": [
    "from config import TEST_WAV_DIR,DCASE_CSV_DIR_TEST\n",
    "directory = TEST_WAV_DIR\n",
    "files = pathlib.Path(directory)\n",
    "files = list(files.glob('*.wav'))\n",
    "count_good=0\n",
    "count_bad=0\n",
    "for num,wav in tqdm(enumerate(files),total=len(files)):\n",
    "    name=wav.stem.split('_')[0]\n",
    "    id_wav=int(wav.stem.split('_')[2])\n",
    "    num_id_wav=int(wav.stem.split('_')[3])\n",
    "    if name=='normal':\n",
    "        y=1\n",
    "    else:\n",
    "        y=0\n",
    "    sig, sr =librosa.load(wav, sr=None, mono=True)\n",
    "    mel_spectrogram = librosa.feature.melspectrogram(y=sig,\n",
    "                                                     sr=sr,\n",
    "                                                     n_fft=1024,\n",
    "                                                     hop_length=512,)\n",
    "    img = Image.fromarray(mel_spectrogram,mode='RGB')\n",
    "    imgUMat = np.float32(img)\n",
    "    x = cv2.resize(imgUMat, dsize=(224, 224), interpolation=cv2.INTER_CUBIC)\n",
    "    x = image.img_to_array(x)\n",
    "    x = np.expand_dims(x, axis=0)\n",
    "    x = preprocess_input(x)\n",
    "    flatten = model.predict(x)\n",
    "    if num==0:\n",
    "        feat_name=[str(i) for i in range(flatten.shape[1])]\n",
    "        col=feat_name+['y']+['ind']+['num']\n",
    "        data=np.zeros((len(files),len(col)))\n",
    "        X_b=pd.DataFrame(data)\n",
    "        X_b.columns=col\n",
    "    X_b.loc[num,feat_name]=flatten\n",
    "    X_b.loc[num,'y']=y\n",
    "    X_b.loc[num,'ind']=id_wav\n",
    "    X_b.loc[num,'num']=num_id_wav"
   ],
   "metadata": {
    "collapsed": false,
    "pycharm": {
     "name": "#%%\n"
    }
   }
  },
  {
   "cell_type": "code",
   "execution_count": 13,
   "outputs": [],
   "source": [
    "X_b=X_b.loc[~(X_b==0).all(axis=1)]\n",
    "X_b.to_csv(DCASE_CSV_DIR_TEST+'Xtest.csv')"
   ],
   "metadata": {
    "collapsed": false,
    "pycharm": {
     "name": "#%%\n"
    }
   }
  }
 ],
 "metadata": {
  "kernelspec": {
   "display_name": "Python 3",
   "language": "python",
   "name": "python3"
  },
  "language_info": {
   "codemirror_mode": {
    "name": "ipython",
    "version": 2
   },
   "file_extension": ".py",
   "mimetype": "text/x-python",
   "name": "python",
   "nbconvert_exporter": "python",
   "pygments_lexer": "ipython2",
   "version": "2.7.6"
  }
 },
 "nbformat": 4,
 "nbformat_minor": 0
}