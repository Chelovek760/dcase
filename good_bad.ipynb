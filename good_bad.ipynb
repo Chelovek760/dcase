{
 "cells": [
  {
   "cell_type": "code",
   "execution_count": 1,
   "metadata": {
    "collapsed": true
   },
   "outputs": [],
   "source": [
    "import matplotlib.pyplot as plt\n",
    "import numpy as np\n",
    "import pandas as pd\n",
    "from saparator import Buono_Brutto_Cattivo\n",
    "from config import TRAIN_WAV_DIR,DCASE_CSV_DIR_TRAIN\n",
    "import pathlib\n",
    "from tqdm import tqdm"
   ]
  },
  {
   "cell_type": "code",
   "execution_count": null,
   "outputs": [],
   "source": [
    "directory = TRAIN_WAV_DIR\n",
    "files = pathlib.Path(directory)\n",
    "files = list(files.glob('*.wav'))\n",
    "count_good=0\n",
    "count_bad=0\n",
    "for num,wav in tqdm(enumerate(files),total=len(files)):\n",
    "    name=wav.stem.split('_')[0]\n",
    "    id_wav=int(wav.stem.split('_')[2])\n",
    "    num_id_wav=int(wav.stem.split('_')[3])\n",
    "    if name=='normal':\n",
    "        y=1\n",
    "    else:\n",
    "        y=0\n",
    "    bbc=Buono_Brutto_Cattivo(wav)\n",
    "    _,gf,_,bf=bbc.features_generator()\n",
    "    for frame in gf:\n",
    "        if count_good==0:\n",
    "            col=list(gf[frame].keys())+['y']+['ind']+['num']\n",
    "            data=np.zeros((len(files)*bbc.segment_number,len(col)))\n",
    "            X_g=pd.DataFrame(data)\n",
    "            X_g.columns=col\n",
    "        X_g.loc[count_good,list(gf[frame].keys())]=list(gf[frame].values())\n",
    "        X_g.loc[count_good,'y']=y\n",
    "        X_g.loc[count_good,'ind']=id_wav\n",
    "        X_g.loc[count_good,'num']=num_id_wav\n",
    "        count_good+=1\n",
    "    for frame in bf:\n",
    "        if count_bad==0:\n",
    "            col=list(bf[frame].keys())+['y']+['ind']+['num']\n",
    "            data=np.zeros((len(files)*bbc.segment_number,len(col)))\n",
    "            X_b=pd.DataFrame(data)\n",
    "            X_b.columns=col\n",
    "        X_b.loc[count_bad,list(bf[frame].keys())]=list(bf[frame].values())\n",
    "        X_b.loc[count_bad,'y']=y\n",
    "        X_b.loc[count_bad,'ind']=id_wav\n",
    "        X_b.loc[count_bad,'num']=num_id_wav\n",
    "        count_bad+=1"
   ],
   "metadata": {
    "collapsed": false,
    "pycharm": {
     "name": "#%%\n"
    }
   }
  },
  {
   "cell_type": "code",
   "execution_count": 30,
   "outputs": [],
   "source": [
    "X_g=X_g.loc[~(X_g==0).all(axis=1)]\n",
    "X_g.to_csv(DCASE_CSV_DIR_TRAIN+'Xg_train.csv')\n",
    "X_b=X_g.loc[~(X_b==0).all(axis=1)]\n",
    "X_b.to_csv(DCASE_CSV_DIR_TRAIN+'Xb_train.csv')"
   ],
   "metadata": {
    "collapsed": false,
    "pycharm": {
     "name": "#%%\n"
    }
   }
  },
  {
   "cell_type": "code",
   "execution_count": 2,
   "outputs": [
    {
     "name": "stderr",
     "output_type": "stream",
     "text": [
      "100%|██████████| 1875/1875 [42:51<00:00,  1.37s/it]\n"
     ]
    }
   ],
   "source": [
    "from config import TEST_WAV_DIR,DCASE_CSV_DIR_TEST\n",
    "directory = TEST_WAV_DIR\n",
    "files = pathlib.Path(directory)\n",
    "files = list(files.glob('*.wav'))\n",
    "count_good=0\n",
    "count_bad=0\n",
    "for num,wav in tqdm(enumerate(files),total=len(files)):\n",
    "    name=wav.stem.split('_')[0]\n",
    "    id_wav=int(wav.stem.split('_')[2])\n",
    "    num_id_wav=int(wav.stem.split('_')[3])\n",
    "    if name=='normal':\n",
    "        y=1\n",
    "    else:\n",
    "        y=0\n",
    "    bbc=Buono_Brutto_Cattivo(wav)\n",
    "    _,gf,_,bf=bbc.features_generator()\n",
    "    for frame in gf:\n",
    "        if count_good==0:\n",
    "            col=list(gf[frame].keys())+['y']+['ind']+['num']\n",
    "            data=np.zeros((len(files)*bbc.segment_number,len(col)))\n",
    "            X_g=pd.DataFrame(data)\n",
    "            X_g.columns=col\n",
    "        X_g.loc[count_good,list(gf[frame].keys())]=list(gf[frame].values())\n",
    "        X_g.loc[count_good,'y']=y\n",
    "        X_g.loc[count_good,'ind']=id_wav\n",
    "        X_g.loc[count_good,'num']=num_id_wav\n",
    "        count_good+=1\n",
    "    for frame in bf:\n",
    "        if count_bad==0:\n",
    "            col=list(bf[frame].keys())+['y']+['ind']+['num']\n",
    "            data=np.zeros((len(files)*bbc.segment_number,len(col)))\n",
    "            X_b=pd.DataFrame(data)\n",
    "            X_b.columns=col\n",
    "        X_b.loc[count_bad,list(bf[frame].keys())]=list(bf[frame].values())\n",
    "        X_b.loc[count_bad,'y']=y\n",
    "        X_b.loc[count_bad,'ind']=id_wav\n",
    "        X_b.loc[count_bad,'num']=num_id_wav\n",
    "        count_bad+=1"
   ],
   "metadata": {
    "collapsed": false,
    "pycharm": {
     "name": "#%%\n"
    }
   }
  },
  {
   "cell_type": "code",
   "execution_count": 3,
   "outputs": [],
   "source": [
    "X_g=X_g.loc[~(X_g==0).all(axis=1)]\n",
    "X_g.to_csv(DCASE_CSV_DIR_TEST+'Xg_test.csv')\n",
    "X_b=X_g.loc[~(X_b==0).all(axis=1)]\n",
    "X_b.to_csv(DCASE_CSV_DIR_TEST+'Xb_test.csv')"
   ],
   "metadata": {
    "collapsed": false,
    "pycharm": {
     "name": "#%%\n"
    }
   }
  },
  {
   "cell_type": "code",
   "execution_count": 1,
   "outputs": [
    {
     "name": "stdout",
     "output_type": "stream",
     "text": [
      "         mean        std         max        min      skew  kurtosis   entropy  \\\n",
      "0  219.998703  55.862926  429.440979  70.825111  0.051904  0.789913  7.350475   \n",
      "1  218.493210  55.428898  427.110535  56.467548  0.278100  1.126898  7.351100   \n",
      "2  215.893570  53.205425  425.438690  68.999092  0.106679  0.847886  7.352636   \n",
      "3  216.617233  53.696064  427.965149  65.060959  0.061846  0.772063  7.352137   \n",
      "4  217.644852  55.697174  426.797699  59.425156  0.122105  0.978640  7.350031   \n",
      "\n",
      "        fsd       fsf       fss    fsflat    y  ind  num  \n",
      "0  0.008639  4.708440  0.678946  0.967746  1.0  0.0  0.0  \n",
      "1  0.009159  5.414819  0.680757  0.974483  1.0  0.0  0.0  \n",
      "2  0.010441  4.536380  0.879031  0.972712  1.0  0.0  0.0  \n",
      "3  0.007336  4.390009  0.775871  0.972706  1.0  0.0  0.0  \n",
      "4  0.008588  5.064469  0.785413  0.968105  1.0  0.0  0.0  \n",
      "         mean        std         max        min      skew  kurtosis   entropy  \\\n",
      "0  219.998703  55.862926  429.440979  70.825111  0.051904  0.789913  7.350475   \n",
      "1  218.493210  55.428898  427.110535  56.467548  0.278100  1.126898  7.351100   \n",
      "2  215.893570  53.205425  425.438690  68.999092  0.106679  0.847886  7.352636   \n",
      "3  216.617233  53.696064  427.965149  65.060959  0.061846  0.772063  7.352137   \n",
      "4  217.644852  55.697174  426.797699  59.425156  0.122105  0.978640  7.350031   \n",
      "\n",
      "        fsd       fsf       fss    fsflat  \n",
      "0  0.008639  4.708440  0.678946  0.967746  \n",
      "1  0.009159  5.414819  0.680757  0.974483  \n",
      "2  0.010441  4.536380  0.879031  0.972712  \n",
      "3  0.007336  4.390009  0.775871  0.972706  \n",
      "4  0.008588  5.064469  0.785413  0.968105  \n"
     ]
    }
   ],
   "source": [
    "from sklearn.svm import OneClassSVM\n",
    "from sklearn.preprocessing import StandardScaler\n",
    "import seaborn as sns\n",
    "from sklearn.decomposition import PCA\n",
    "import numpy as np\n",
    "import pandas as pd\n",
    "from sklearn.metrics import roc_auc_score,f1_score\n",
    "X=pd.read_csv(r'D:\\Ботать\\Работа\\dcase\\dev_data\\csv_5\\train\\Xg_train.csv',index_col=0,header=0)\n",
    "Xb=pd.read_csv(r'D:\\Ботать\\Работа\\dcase\\dev_data\\csv_5\\train\\Xb_train.csv',index_col=0,header=0)\n",
    "X_test=pd.read_csv(r'D:\\Ботать\\Работа\\dcase\\dev_data\\csv_5\\test\\Xg_test.csv',index_col=0,header=0)\n",
    "Xb_test=pd.read_csv(r'D:\\Ботать\\Работа\\dcase\\dev_data\\csv_5\\test\\Xg_test.csv',index_col=0,header=0)\n",
    "print(X.head())\n",
    "Y=X[['y',  'ind',  'num' ]]\n",
    "X=X.drop(columns=['y',  'ind',  'num' ])\n",
    "Yb=Xb[['y',  'ind',  'num' ]]\n",
    "Xb=Xb.drop(columns=['y',  'ind',  'num' ])\n",
    "Y_test=X_test[['y',  'ind',  'num' ]]\n",
    "X_test=X_test.drop(columns=['y',  'ind',  'num' ])\n",
    "Yb_test=Xb_test[['y',  'ind',  'num' ]]\n",
    "Xb_test=Xb_test.drop(columns=['y',  'ind',  'num' ])\n",
    "print(X.head())"
   ],
   "metadata": {
    "collapsed": false,
    "pycharm": {
     "name": "#%%\n"
    }
   }
  },
  {
   "cell_type": "code",
   "execution_count": 2,
   "outputs": [],
   "source": [
    "sc=StandardScaler()\n",
    "sc.fit(X)\n",
    "X=sc.transform(X)\n",
    "X_test=sc.transform(X_test)\n",
    "pca = PCA(n_components=2)\n",
    "fit = pca.fit(X)\n",
    "X = fit.transform(X)\n",
    "X_test=fit.transform(X_test)"
   ],
   "metadata": {
    "collapsed": false,
    "pycharm": {
     "name": "#%%\n"
    }
   }
  },
  {
   "cell_type": "code",
   "execution_count": null,
   "outputs": [],
   "source": [
    "model0=OneClassSVM()\n",
    "estim=model0.fit(X)"
   ],
   "metadata": {
    "collapsed": false,
    "pycharm": {
     "name": "#%%\n",
     "is_executing": true
    }
   }
  },
  {
   "cell_type": "code",
   "execution_count": null,
   "outputs": [],
   "source": [
    "res=estim.predict(X_test)\n",
    "y_test=Y_test['y']\n",
    "y_test[y_test == 0] = -1\n",
    "print(roc_auc_score(y_test,res))"
   ],
   "metadata": {
    "collapsed": false,
    "pycharm": {
     "name": "#%%\n"
    }
   }
  }
 ],
 "metadata": {
  "kernelspec": {
   "display_name": "Python 3",
   "language": "python",
   "name": "python3"
  },
  "language_info": {
   "codemirror_mode": {
    "name": "ipython",
    "version": 2
   },
   "file_extension": ".py",
   "mimetype": "text/x-python",
   "name": "python",
   "nbconvert_exporter": "python",
   "pygments_lexer": "ipython2",
   "version": "2.7.6"
  }
 },
 "nbformat": 4,
 "nbformat_minor": 0
}