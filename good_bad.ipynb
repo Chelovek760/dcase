{
 "cells": [
  {
   "cell_type": "code",
   "execution_count": 1,
   "metadata": {
    "collapsed": true
   },
   "outputs": [],
   "source": [
    "import matplotlib.pyplot as plt\n",
    "import numpy as np\n",
    "import pandas as pd\n",
    "from saparator import Buono_Brutto_Cattivo\n",
    "from config import TRAIN_WAV_DIR,DCASE_CSV_DIR_TRAIN\n",
    "import pathlib\n",
    "from tqdm import tqdm"
   ]
  },
  {
   "cell_type": "code",
   "execution_count": 2,
   "outputs": [
    {
     "output_type": "stream",
     "name": "stderr",
     "text": "0%|          | 0/4 [00:00<?, ?it/s]c:\\Users\\markh\\Work\\my_dcase\\testing\\env\\lib\\site-packages\\sklearn\\ensemble\\iforest.py:417: DeprecationWarning: threshold_ attribute is deprecated in 0.20 and will be removed in 0.22.\n  \" be removed in 0.22.\", DeprecationWarning)\n 25%|██▌       | 1/4 [00:01<00:03,  1.20s/it]c:\\Users\\markh\\Work\\my_dcase\\testing\\env\\lib\\site-packages\\sklearn\\ensemble\\iforest.py:417: DeprecationWarning: threshold_ attribute is deprecated in 0.20 and will be removed in 0.22.\n  \" be removed in 0.22.\", DeprecationWarning)\n 50%|█████     | 2/4 [00:02<00:02,  1.16s/it]c:\\Users\\markh\\Work\\my_dcase\\testing\\env\\lib\\site-packages\\sklearn\\ensemble\\iforest.py:417: DeprecationWarning: threshold_ attribute is deprecated in 0.20 and will be removed in 0.22.\n  \" be removed in 0.22.\", DeprecationWarning)\n 75%|███████▌  | 3/4 [00:03<00:01,  1.17s/it]c:\\Users\\markh\\Work\\my_dcase\\testing\\env\\lib\\site-packages\\sklearn\\ensemble\\iforest.py:417: DeprecationWarning: threshold_ attribute is deprecated in 0.20 and will be removed in 0.22.\n  \" be removed in 0.22.\", DeprecationWarning)\n100%|██████████| 4/4 [00:04<00:00,  1.17s/it]\n"
    }
   ],
   "source": [
    "directory = r'C:\\Users\\markh\\Work\\my_dcase\\testing\\dev_data\\fan\\train'\n",
    "files = pathlib.Path(directory)\n",
    "files = list(files.glob('*.wav'))[-1:-5:-1]\n",
    "count_good=0\n",
    "count_bad=0\n",
    "for num,wav in tqdm(enumerate(files),total=len(files)):\n",
    "    name=wav.stem.split('_')[0]\n",
    "    id_wav=int(wav.stem.split('_')[2])\n",
    "    num_id_wav=int(wav.stem.split('_')[3])\n",
    "    if name=='normal':\n",
    "        y=1\n",
    "    else:\n",
    "        y=0\n",
    "    bbc=Buono_Brutto_Cattivo(wav)\n",
    "    _,gf,_,bf=bbc.features_generator()\n",
    "    for frame in gf:\n",
    "        if count_good==0:\n",
    "            col=list(gf[frame].keys())+['y']+['ind']+['num']\n",
    "            data=np.zeros((len(files)*bbc.segment_number,len(col)))\n",
    "            X_g=pd.DataFrame(data)\n",
    "            X_g.columns=col\n",
    "        X_g.loc[count_good,list(gf[frame].keys())]=list(gf[frame].values())\n",
    "        X_g.loc[count_good,'y']=y\n",
    "        X_g.loc[count_good,'ind']=id_wav\n",
    "        X_g.loc[count_good,'num']=num_id_wav\n",
    "        count_good+=1\n",
    "    for frame in bf:\n",
    "        if count_bad==0:\n",
    "            col=list(bf[frame].keys())+['y']+['ind']+['num']\n",
    "            data=np.zeros((len(files)*bbc.segment_number,len(col)))\n",
    "            X_b=pd.DataFrame(data)\n",
    "            X_b.columns=col\n",
    "        X_b.loc[count_bad,list(bf[frame].keys())]=list(bf[frame].values())\n",
    "        X_b.loc[count_bad,'y']=y\n",
    "        X_b.loc[count_bad,'ind']=id_wav\n",
    "        X_b.loc[count_bad,'num']=num_id_wav\n",
    "        count_bad+=1"
   ],
   "metadata": {
    "collapsed": false,
    "pycharm": {
     "name": "#%%\n"
    }
   }
  },
  {
   "cell_type": "code",
   "execution_count": 3,
   "metadata": {},
   "outputs": [
    {
     "output_type": "execute_result",
     "data": {
      "text/plain": "           mean        std         max        min      skew  kurtosis  \\\n0    239.329361  79.035812  429.409424  62.522686  0.123681 -0.516896   \n1    240.189011  77.542992  424.461304  70.792534  0.145582 -0.637394   \n2    241.387970  78.808311  429.247559  61.428783  0.016119 -0.585533   \n3    237.648956  77.033203  429.227722  68.316017  0.132087 -0.540003   \n4    238.120193  77.974632  427.808380  61.565235  0.068388 -0.621012   \n..          ...        ...         ...        ...       ...       ...   \n391    0.000000   0.000000    0.000000   0.000000  0.000000  0.000000   \n392    0.000000   0.000000    0.000000   0.000000  0.000000  0.000000   \n393    0.000000   0.000000    0.000000   0.000000  0.000000  0.000000   \n394    0.000000   0.000000    0.000000   0.000000  0.000000  0.000000   \n395    0.000000   0.000000    0.000000   0.000000  0.000000  0.000000   \n\n      entropy       fsd       fsf       fss    fsflat    y  ind    num  \n0    7.327484  0.007878  4.518425  1.599171  0.945060  1.0  6.0  914.0  \n1    7.330404  0.010093  4.385530  1.519098  0.951389  1.0  6.0  914.0  \n2    7.328162  0.010467  4.367013  1.647022  0.951204  1.0  6.0  914.0  \n3    7.329769  0.010681  4.152540  1.522232  0.951978  1.0  6.0  914.0  \n4    7.328223  0.008681  4.594125  1.557235  0.949335  1.0  6.0  914.0  \n..        ...       ...       ...       ...       ...  ...  ...    ...  \n391  0.000000  0.000000  0.000000  0.000000  0.000000  0.0  0.0    0.0  \n392  0.000000  0.000000  0.000000  0.000000  0.000000  0.0  0.0    0.0  \n393  0.000000  0.000000  0.000000  0.000000  0.000000  0.0  0.0    0.0  \n394  0.000000  0.000000  0.000000  0.000000  0.000000  0.0  0.0    0.0  \n395  0.000000  0.000000  0.000000  0.000000  0.000000  0.0  0.0    0.0  \n\n[396 rows x 14 columns]",
      "text/html": "<div>\n<style scoped>\n    .dataframe tbody tr th:only-of-type {\n        vertical-align: middle;\n    }\n\n    .dataframe tbody tr th {\n        vertical-align: top;\n    }\n\n    .dataframe thead th {\n        text-align: right;\n    }\n</style>\n<table border=\"1\" class=\"dataframe\">\n  <thead>\n    <tr style=\"text-align: right;\">\n      <th></th>\n      <th>mean</th>\n      <th>std</th>\n      <th>max</th>\n      <th>min</th>\n      <th>skew</th>\n      <th>kurtosis</th>\n      <th>entropy</th>\n      <th>fsd</th>\n      <th>fsf</th>\n      <th>fss</th>\n      <th>fsflat</th>\n      <th>y</th>\n      <th>ind</th>\n      <th>num</th>\n    </tr>\n  </thead>\n  <tbody>\n    <tr>\n      <th>0</th>\n      <td>239.329361</td>\n      <td>79.035812</td>\n      <td>429.409424</td>\n      <td>62.522686</td>\n      <td>0.123681</td>\n      <td>-0.516896</td>\n      <td>7.327484</td>\n      <td>0.007878</td>\n      <td>4.518425</td>\n      <td>1.599171</td>\n      <td>0.945060</td>\n      <td>1.0</td>\n      <td>6.0</td>\n      <td>914.0</td>\n    </tr>\n    <tr>\n      <th>1</th>\n      <td>240.189011</td>\n      <td>77.542992</td>\n      <td>424.461304</td>\n      <td>70.792534</td>\n      <td>0.145582</td>\n      <td>-0.637394</td>\n      <td>7.330404</td>\n      <td>0.010093</td>\n      <td>4.385530</td>\n      <td>1.519098</td>\n      <td>0.951389</td>\n      <td>1.0</td>\n      <td>6.0</td>\n      <td>914.0</td>\n    </tr>\n    <tr>\n      <th>2</th>\n      <td>241.387970</td>\n      <td>78.808311</td>\n      <td>429.247559</td>\n      <td>61.428783</td>\n      <td>0.016119</td>\n      <td>-0.585533</td>\n      <td>7.328162</td>\n      <td>0.010467</td>\n      <td>4.367013</td>\n      <td>1.647022</td>\n      <td>0.951204</td>\n      <td>1.0</td>\n      <td>6.0</td>\n      <td>914.0</td>\n    </tr>\n    <tr>\n      <th>3</th>\n      <td>237.648956</td>\n      <td>77.033203</td>\n      <td>429.227722</td>\n      <td>68.316017</td>\n      <td>0.132087</td>\n      <td>-0.540003</td>\n      <td>7.329769</td>\n      <td>0.010681</td>\n      <td>4.152540</td>\n      <td>1.522232</td>\n      <td>0.951978</td>\n      <td>1.0</td>\n      <td>6.0</td>\n      <td>914.0</td>\n    </tr>\n    <tr>\n      <th>4</th>\n      <td>238.120193</td>\n      <td>77.974632</td>\n      <td>427.808380</td>\n      <td>61.565235</td>\n      <td>0.068388</td>\n      <td>-0.621012</td>\n      <td>7.328223</td>\n      <td>0.008681</td>\n      <td>4.594125</td>\n      <td>1.557235</td>\n      <td>0.949335</td>\n      <td>1.0</td>\n      <td>6.0</td>\n      <td>914.0</td>\n    </tr>\n    <tr>\n      <th>...</th>\n      <td>...</td>\n      <td>...</td>\n      <td>...</td>\n      <td>...</td>\n      <td>...</td>\n      <td>...</td>\n      <td>...</td>\n      <td>...</td>\n      <td>...</td>\n      <td>...</td>\n      <td>...</td>\n      <td>...</td>\n      <td>...</td>\n      <td>...</td>\n    </tr>\n    <tr>\n      <th>391</th>\n      <td>0.000000</td>\n      <td>0.000000</td>\n      <td>0.000000</td>\n      <td>0.000000</td>\n      <td>0.000000</td>\n      <td>0.000000</td>\n      <td>0.000000</td>\n      <td>0.000000</td>\n      <td>0.000000</td>\n      <td>0.000000</td>\n      <td>0.000000</td>\n      <td>0.0</td>\n      <td>0.0</td>\n      <td>0.0</td>\n    </tr>\n    <tr>\n      <th>392</th>\n      <td>0.000000</td>\n      <td>0.000000</td>\n      <td>0.000000</td>\n      <td>0.000000</td>\n      <td>0.000000</td>\n      <td>0.000000</td>\n      <td>0.000000</td>\n      <td>0.000000</td>\n      <td>0.000000</td>\n      <td>0.000000</td>\n      <td>0.000000</td>\n      <td>0.0</td>\n      <td>0.0</td>\n      <td>0.0</td>\n    </tr>\n    <tr>\n      <th>393</th>\n      <td>0.000000</td>\n      <td>0.000000</td>\n      <td>0.000000</td>\n      <td>0.000000</td>\n      <td>0.000000</td>\n      <td>0.000000</td>\n      <td>0.000000</td>\n      <td>0.000000</td>\n      <td>0.000000</td>\n      <td>0.000000</td>\n      <td>0.000000</td>\n      <td>0.0</td>\n      <td>0.0</td>\n      <td>0.0</td>\n    </tr>\n    <tr>\n      <th>394</th>\n      <td>0.000000</td>\n      <td>0.000000</td>\n      <td>0.000000</td>\n      <td>0.000000</td>\n      <td>0.000000</td>\n      <td>0.000000</td>\n      <td>0.000000</td>\n      <td>0.000000</td>\n      <td>0.000000</td>\n      <td>0.000000</td>\n      <td>0.000000</td>\n      <td>0.0</td>\n      <td>0.0</td>\n      <td>0.0</td>\n    </tr>\n    <tr>\n      <th>395</th>\n      <td>0.000000</td>\n      <td>0.000000</td>\n      <td>0.000000</td>\n      <td>0.000000</td>\n      <td>0.000000</td>\n      <td>0.000000</td>\n      <td>0.000000</td>\n      <td>0.000000</td>\n      <td>0.000000</td>\n      <td>0.000000</td>\n      <td>0.000000</td>\n      <td>0.0</td>\n      <td>0.0</td>\n      <td>0.0</td>\n    </tr>\n  </tbody>\n</table>\n<p>396 rows × 14 columns</p>\n</div>"
     },
     "metadata": {},
     "execution_count": 3
    }
   ],
   "source": [
    "X_g"
   ]
  },
  {
   "cell_type": "code",
   "execution_count": 4,
   "outputs": [
    {
     "output_type": "error",
     "ename": "NameError",
     "evalue": "name 'X_g' is not defined",
     "traceback": [
      "\u001b[1;31m---------------------------------------------------------------------------\u001b[0m",
      "\u001b[1;31mNameError\u001b[0m                                 Traceback (most recent call last)",
      "\u001b[1;32m<ipython-input-4-50034f7e0c8e>\u001b[0m in \u001b[0;36m<module>\u001b[1;34m\u001b[0m\n\u001b[1;32m----> 1\u001b[1;33m \u001b[0mX_g\u001b[0m\u001b[1;33m=\u001b[0m\u001b[0mX_g\u001b[0m\u001b[1;33m.\u001b[0m\u001b[0mloc\u001b[0m\u001b[1;33m[\u001b[0m\u001b[1;33m~\u001b[0m\u001b[1;33m(\u001b[0m\u001b[0mX_g\u001b[0m\u001b[1;33m==\u001b[0m\u001b[1;36m0\u001b[0m\u001b[1;33m)\u001b[0m\u001b[1;33m.\u001b[0m\u001b[0mall\u001b[0m\u001b[1;33m(\u001b[0m\u001b[0maxis\u001b[0m\u001b[1;33m=\u001b[0m\u001b[1;36m1\u001b[0m\u001b[1;33m)\u001b[0m\u001b[1;33m]\u001b[0m\u001b[1;33m\u001b[0m\u001b[1;33m\u001b[0m\u001b[0m\n\u001b[0m\u001b[0;32m      2\u001b[0m \u001b[0mX_g\u001b[0m\u001b[1;33m.\u001b[0m\u001b[0mto_csv\u001b[0m\u001b[1;33m(\u001b[0m\u001b[1;34m'Xg_train.csv'\u001b[0m\u001b[1;33m)\u001b[0m\u001b[1;33m\u001b[0m\u001b[1;33m\u001b[0m\u001b[0m\n\u001b[0;32m      3\u001b[0m \u001b[0mX_b\u001b[0m\u001b[1;33m=\u001b[0m\u001b[0mX_g\u001b[0m\u001b[1;33m.\u001b[0m\u001b[0mloc\u001b[0m\u001b[1;33m[\u001b[0m\u001b[1;33m~\u001b[0m\u001b[1;33m(\u001b[0m\u001b[0mX_b\u001b[0m\u001b[1;33m==\u001b[0m\u001b[1;36m0\u001b[0m\u001b[1;33m)\u001b[0m\u001b[1;33m.\u001b[0m\u001b[0mall\u001b[0m\u001b[1;33m(\u001b[0m\u001b[0maxis\u001b[0m\u001b[1;33m=\u001b[0m\u001b[1;36m1\u001b[0m\u001b[1;33m)\u001b[0m\u001b[1;33m]\u001b[0m\u001b[1;33m\u001b[0m\u001b[1;33m\u001b[0m\u001b[0m\n\u001b[0;32m      4\u001b[0m \u001b[0mX_b\u001b[0m\u001b[1;33m.\u001b[0m\u001b[0mto_csv\u001b[0m\u001b[1;33m(\u001b[0m\u001b[1;34m'Xb_train.csv'\u001b[0m\u001b[1;33m)\u001b[0m\u001b[1;33m\u001b[0m\u001b[1;33m\u001b[0m\u001b[0m\n",
      "\u001b[1;31mNameError\u001b[0m: name 'X_g' is not defined"
     ]
    }
   ],
   "source": [
    "X_g=X_g.loc[~(X_g==0).all(axis=1)]\n",
    "X_g.to_csv('Xg_train.csv')\n",
    "X_b=X_g.loc[~(X_b==0).all(axis=1)]\n",
    "X_b.to_csv('Xb_train.csv')"
   ],
   "metadata": {
    "collapsed": false,
    "pycharm": {
     "name": "#%%\n"
    }
   }
  },
  {
   "cell_type": "code",
   "execution_count": 2,
   "outputs": [
    {
     "name": "stderr",
     "output_type": "stream",
     "text": [
      "100%|██████████| 1875/1875 [42:51<00:00,  1.37s/it]\n"
     ]
    }
   ],
   "source": [
    "from config import TEST_WAV_DIR,DCASE_CSV_DIR_TEST\n",
    "directory = TEST_WAV_DIR\n",
    "files = pathlib.Path(directory)\n",
    "files = list(files.glob('*.wav'))\n",
    "count_good=0\n",
    "count_bad=0\n",
    "for num,wav in tqdm(enumerate(files),total=len(files)):\n",
    "    name=wav.stem.split('_')[0]\n",
    "    id_wav=int(wav.stem.split('_')[2])\n",
    "    num_id_wav=int(wav.stem.split('_')[3])\n",
    "    if name=='normal':\n",
    "        y=1\n",
    "    else:\n",
    "        y=0\n",
    "    bbc=Buono_Brutto_Cattivo(wav)\n",
    "    _,gf,_,bf=bbc.features_generator()\n",
    "    for frame in gf:\n",
    "        if count_good==0:\n",
    "            col=list(gf[frame].keys())+['y']+['ind']+['num']\n",
    "            data=np.zeros((len(files)*bbc.segment_number,len(col)))\n",
    "            X_g=pd.DataFrame(data)\n",
    "            X_g.columns=col\n",
    "        X_g.loc[count_good,list(gf[frame].keys())]=list(gf[frame].values())\n",
    "        X_g.loc[count_good,'y']=y\n",
    "        X_g.loc[count_good,'ind']=id_wav\n",
    "        X_g.loc[count_good,'num']=num_id_wav\n",
    "        count_good+=1\n",
    "    for frame in bf:\n",
    "        if count_bad==0:\n",
    "            col=list(bf[frame].keys())+['y']+['ind']+['num']\n",
    "            data=np.zeros((len(files)*bbc.segment_number,len(col)))\n",
    "            X_b=pd.DataFrame(data)\n",
    "            X_b.columns=col\n",
    "        X_b.loc[count_bad,list(bf[frame].keys())]=list(bf[frame].values())\n",
    "        X_b.loc[count_bad,'y']=y\n",
    "        X_b.loc[count_bad,'ind']=id_wav\n",
    "        X_b.loc[count_bad,'num']=num_id_wav\n",
    "        count_bad+=1"
   ],
   "metadata": {
    "collapsed": false,
    "pycharm": {
     "name": "#%%\n"
    }
   }
  },
  {
   "cell_type": "code",
   "execution_count": 3,
   "outputs": [],
   "source": [
    "X_g=X_g.loc[~(X_g==0).all(axis=1)]\n",
    "X_g.to_csv(DCASE_CSV_DIR_TEST+'Xg_test.csv')\n",
    "X_b=X_g.loc[~(X_b==0).all(axis=1)]\n",
    "X_b.to_csv(DCASE_CSV_DIR_TEST+'Xb_test.csv')"
   ],
   "metadata": {
    "collapsed": false,
    "pycharm": {
     "name": "#%%\n"
    }
   }
  },
  {
   "cell_type": "code",
   "execution_count": 1,
   "outputs": [
    {
     "name": "stdout",
     "output_type": "stream",
     "text": [
      "         mean        std         max        min      skew  kurtosis   entropy  \\\n",
      "0  219.998703  55.862926  429.440979  70.825111  0.051904  0.789913  7.350475   \n",
      "1  218.493210  55.428898  427.110535  56.467548  0.278100  1.126898  7.351100   \n",
      "2  215.893570  53.205425  425.438690  68.999092  0.106679  0.847886  7.352636   \n",
      "3  216.617233  53.696064  427.965149  65.060959  0.061846  0.772063  7.352137   \n",
      "4  217.644852  55.697174  426.797699  59.425156  0.122105  0.978640  7.350031   \n",
      "\n",
      "        fsd       fsf       fss    fsflat    y  ind  num  \n",
      "0  0.008639  4.708440  0.678946  0.967746  1.0  0.0  0.0  \n",
      "1  0.009159  5.414819  0.680757  0.974483  1.0  0.0  0.0  \n",
      "2  0.010441  4.536380  0.879031  0.972712  1.0  0.0  0.0  \n",
      "3  0.007336  4.390009  0.775871  0.972706  1.0  0.0  0.0  \n",
      "4  0.008588  5.064469  0.785413  0.968105  1.0  0.0  0.0  \n",
      "         mean        std         max        min      skew  kurtosis   entropy  \\\n",
      "0  219.998703  55.862926  429.440979  70.825111  0.051904  0.789913  7.350475   \n",
      "1  218.493210  55.428898  427.110535  56.467548  0.278100  1.126898  7.351100   \n",
      "2  215.893570  53.205425  425.438690  68.999092  0.106679  0.847886  7.352636   \n",
      "3  216.617233  53.696064  427.965149  65.060959  0.061846  0.772063  7.352137   \n",
      "4  217.644852  55.697174  426.797699  59.425156  0.122105  0.978640  7.350031   \n",
      "\n",
      "        fsd       fsf       fss    fsflat  \n",
      "0  0.008639  4.708440  0.678946  0.967746  \n",
      "1  0.009159  5.414819  0.680757  0.974483  \n",
      "2  0.010441  4.536380  0.879031  0.972712  \n",
      "3  0.007336  4.390009  0.775871  0.972706  \n",
      "4  0.008588  5.064469  0.785413  0.968105  \n"
     ]
    }
   ],
   "source": [
    "from sklearn.svm import OneClassSVM\n",
    "from sklearn.preprocessing import StandardScaler\n",
    "import seaborn as sns\n",
    "from sklearn.decomposition import PCA\n",
    "import numpy as np\n",
    "import pandas as pd\n",
    "from sklearn.metrics import roc_auc_score,f1_score\n",
    "X=pd.read_csv(r'D:\\Ботать\\Работа\\dcase\\dev_data\\csv_5\\train\\Xg_train.csv',index_col=0,header=0)\n",
    "Xb=pd.read_csv(r'D:\\Ботать\\Работа\\dcase\\dev_data\\csv_5\\train\\Xb_train.csv',index_col=0,header=0)\n",
    "X_test=pd.read_csv(r'D:\\Ботать\\Работа\\dcase\\dev_data\\csv_5\\test\\Xg_test.csv',index_col=0,header=0)\n",
    "Xb_test=pd.read_csv(r'D:\\Ботать\\Работа\\dcase\\dev_data\\csv_5\\test\\Xg_test.csv',index_col=0,header=0)\n",
    "print(X.head())\n",
    "Y=X[['y',  'ind',  'num' ]]\n",
    "X=X.drop(columns=['y',  'ind',  'num' ])\n",
    "Yb=Xb[['y',  'ind',  'num' ]]\n",
    "Xb=Xb.drop(columns=['y',  'ind',  'num' ])\n",
    "Y_test=X_test[['y',  'ind',  'num' ]]\n",
    "X_test=X_test.drop(columns=['y',  'ind',  'num' ])\n",
    "Yb_test=Xb_test[['y',  'ind',  'num' ]]\n",
    "Xb_test=Xb_test.drop(columns=['y',  'ind',  'num' ])\n",
    "print(X.head())"
   ],
   "metadata": {
    "collapsed": false,
    "pycharm": {
     "name": "#%%\n"
    }
   }
  },
  {
   "cell_type": "code",
   "execution_count": 2,
   "outputs": [],
   "source": [
    "sc=StandardScaler()\n",
    "sc.fit(X)\n",
    "X=sc.transform(X)\n",
    "X_test=sc.transform(X_test)\n",
    "pca = PCA(n_components=2)\n",
    "fit = pca.fit(X)\n",
    "X = fit.transform(X)\n",
    "X_test=fit.transform(X_test)"
   ],
   "metadata": {
    "collapsed": false,
    "pycharm": {
     "name": "#%%\n"
    }
   }
  },
  {
   "cell_type": "code",
   "execution_count": null,
   "outputs": [],
   "source": [
    "model0=OneClassSVM()\n",
    "estim=model0.fit(X)"
   ],
   "metadata": {
    "collapsed": false,
    "pycharm": {
     "name": "#%%\n",
     "is_executing": true
    }
   }
  },
  {
   "cell_type": "code",
   "execution_count": null,
   "outputs": [],
   "source": [
    "res=estim.predict(X_test)\n",
    "y_test=Y_test['y']\n",
    "y_test[y_test == 0] = -1\n",
    "print(roc_auc_score(y_test,res))"
   ],
   "metadata": {
    "collapsed": false,
    "pycharm": {
     "name": "#%%\n"
    }
   }
  }
 ],
 "metadata": {
  "kernelspec": {
   "display_name": "Python 3.7.6 64-bit ('env': venv)",
   "language": "python",
   "name": "python37664bitenvvenv8ca4272d44b74e8db2f588ebd4cbb31b"
  },
  "language_info": {
   "codemirror_mode": {
    "name": "ipython",
    "version": 2
   },
   "file_extension": ".py",
   "mimetype": "text/x-python",
   "name": "python",
   "nbconvert_exporter": "python",
   "pygments_lexer": "ipython2",
   "version": "3.7.6-final"
  }
 },
 "nbformat": 4,
 "nbformat_minor": 0
}