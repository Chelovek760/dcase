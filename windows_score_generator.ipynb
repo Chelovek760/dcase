{
 "cells": [
  {
   "cell_type": "code",
   "execution_count": 14,
   "outputs": [
    {
     "name": "stdout",
     "output_type": "stream",
     "text": [
      "          0         1         2         3         4         5         6  \\\n",
      "0  0.000074  0.000095  0.000810  0.000850  0.002814  0.000893  0.001844   \n",
      "1  0.000040  0.000065  0.000515  0.000447  0.001332  0.000534  0.000984   \n",
      "2  0.000058  0.000093  0.000574  0.000483  0.001979  0.000581  0.001093   \n",
      "3  0.000066  0.000113  0.000746  0.000735  0.002487  0.000981  0.001807   \n",
      "4  0.000049  0.000078  0.000368  0.000457  0.001688  0.000685  0.001366   \n",
      "\n",
      "          7         8         9  ...       993       994       995       996  \\\n",
      "0  0.000446  0.000434  0.000496  ...  0.000040  0.000069  0.000018  0.000049   \n",
      "1  0.000432  0.000524  0.000473  ...  0.000040  0.000049  0.000015  0.000039   \n",
      "2  0.000798  0.000687  0.000752  ...  0.000056  0.000087  0.000027  0.000059   \n",
      "3  0.000571  0.000599  0.000603  ...  0.000044  0.000073  0.000020  0.000051   \n",
      "4  0.000261  0.000398  0.000251  ...  0.000037  0.000037  0.000013  0.000036   \n",
      "\n",
      "        997       998       999    y  ind  num  \n",
      "0  0.000047  0.000132  0.000506  1.0  0.0  0.0  \n",
      "1  0.000038  0.000110  0.000465  1.0  0.0  1.0  \n",
      "2  0.000064  0.000211  0.000634  1.0  0.0  2.0  \n",
      "3  0.000047  0.000149  0.000592  1.0  0.0  3.0  \n",
      "4  0.000037  0.000077  0.000433  1.0  0.0  4.0  \n",
      "\n",
      "[5 rows x 1003 columns]\n"
     ]
    }
   ],
   "source": [
    "from sklearn.svm import OneClassSVM\n",
    "from sklearn.preprocessing import StandardScaler\n",
    "import seaborn as sns\n",
    "from sklearn.decomposition import PCA\n",
    "import numpy as np\n",
    "import pandas as pd\n",
    "from sklearn.metrics import roc_auc_score,f1_score\n",
    "X=pd.read_csv(r'D:\\Projects\\dcase\\thrash\\csv_incepcion_features\\train\\Xtrain.csv',index_col=0,header=0)\n",
    "X_test=pd.read_csv(r'D:\\Projects\\dcase\\thrash\\csv_incepcion_features\\test\\Xtest.csv',index_col=0,header=0)\n",
    "print(X.head())\n",
    "Y=X[['y',  'ind']]\n",
    "X=X.drop(columns=['y', 'num','ind'])\n",
    "Y_test=X_test[['y',  'ind' ]]\n",
    "X_test=X_test.drop(columns=['y', 'ind' ,'num'])"
   ],
   "metadata": {
    "collapsed": false,
    "pycharm": {
     "name": "#%%\n"
    }
   }
  },
  {
   "cell_type": "code",
   "execution_count": 15,
   "outputs": [
    {
     "data": {
      "text/plain": "OneClassSVM()"
     },
     "execution_count": 15,
     "metadata": {},
     "output_type": "execute_result"
    }
   ],
   "source": [
    "model0=model = OneClassSVM()\n",
    "# sc=StandardScaler()\n",
    "# sc.fit(X)\n",
    "# X=sc.transform(X)\n",
    "# X_test=sc.transform(X_test)\n",
    "# pca = PCA(n_components=3)\n",
    "# fit = pca.fit(X)\n",
    "# X = fit.transform(X)\n",
    "# X_test=fit.transform(X_test)\n",
    "model0.fit(X)"
   ],
   "metadata": {
    "collapsed": false,
    "pycharm": {
     "name": "#%%\n"
    }
   }
  },
  {
   "cell_type": "code",
   "execution_count": 42,
   "outputs": [
    {
     "name": "stdout",
     "output_type": "stream",
     "text": [
      "[[-2.33400244  0.42334807 -0.5205602 ]\n",
      " [-2.42892646  0.39339708 -0.08565742]\n",
      " [-1.97419324  1.06474072  0.16182906]\n",
      " ...\n",
      " [-2.41851276  0.28441755  2.20260711]\n",
      " [-2.22877235  1.83177241  0.67334697]\n",
      " [-2.33154898  1.66107557  1.08719982]] [[0.]\n",
      " [0.]\n",
      " [0.]\n",
      " ...\n",
      " [6.]\n",
      " [6.]\n",
      " [6.]]\n"
     ]
    }
   ],
   "source": [
    "print(X_test,Y_test['ind'].values.reshape(X_test.shape[0],1))"
   ],
   "metadata": {
    "collapsed": false,
    "pycharm": {
     "name": "#%%\n"
    }
   }
  },
  {
   "cell_type": "code",
   "execution_count": 11,
   "outputs": [
    {
     "name": "stdout",
     "output_type": "stream",
     "text": [
      "     0   1    2   3    4   5    6    7    8    9  ...  118  119  120  121  \\\n",
      "0  155  22  136  33  250  81  136  117   89  220  ...    0  143  150  127   \n",
      "1  154  28  160  42  255  74  143  125  104  208  ...    0   66  166   90   \n",
      "2  160  33  148  68  236  45  126   80  102  196  ...    1   65  141  107   \n",
      "3  154  29  157  49  255  40  129  128  115  194  ...    0    0  203   53   \n",
      "4  157  27  173  70  242  34  123   95  113  180  ...    0  101    5   37   \n",
      "\n",
      "   122  123  124  125  126  127  \n",
      "0   26  108  255    0    0  255  \n",
      "1    0   54  255    0  114  255  \n",
      "2    0  164  213   88   84  255  \n",
      "3    0   16  255    0  100  255  \n",
      "4    0   61  255   59  100  255  \n",
      "\n",
      "[5 rows x 128 columns]\n",
      "id  0\n",
      "auc =  0.5264127764127764  pauc =  0.5031087333718912  f1 =  0.30120481927710846\n",
      "id  2\n",
      "auc =  0.5208774373259053  pauc =  0.5019336945304438  f1 =  0.33424657534246577\n",
      "id  4\n",
      "auc =  0.5287931034482758  pauc =  0.5035875402792696  f1 =  0.3254237288135593\n",
      "id  6\n",
      "auc =  0.45423822714681433  pauc =  0.49466580561834034  f1 =  0.24080267558528431\n"
     ]
    },
    {
     "name": "stderr",
     "output_type": "stream",
     "text": [
      "d:\\projects\\dcase\\venv\\lib\\site-packages\\pandas\\core\\generic.py:8765: SettingWithCopyWarning: \n",
      "A value is trying to be set on a copy of a slice from a DataFrame\n",
      "\n",
      "See the caveats in the documentation: https://pandas.pydata.org/pandas-docs/stable/user_guide/indexing.html#returning-a-view-versus-a-copy\n",
      "  self._update_inplace(new_data)\n",
      "d:\\projects\\dcase\\venv\\lib\\site-packages\\ipykernel_launcher.py:15: SettingWithCopyWarning: \n",
      "A value is trying to be set on a copy of a slice from a DataFrame\n",
      "\n",
      "See the caveats in the documentation: https://pandas.pydata.org/pandas-docs/stable/user_guide/indexing.html#returning-a-view-versus-a-copy\n",
      "  from ipykernel import kernelapp as app\n",
      "d:\\projects\\dcase\\venv\\lib\\site-packages\\pandas\\core\\generic.py:8765: SettingWithCopyWarning: \n",
      "A value is trying to be set on a copy of a slice from a DataFrame\n",
      "\n",
      "See the caveats in the documentation: https://pandas.pydata.org/pandas-docs/stable/user_guide/indexing.html#returning-a-view-versus-a-copy\n",
      "  self._update_inplace(new_data)\n",
      "d:\\projects\\dcase\\venv\\lib\\site-packages\\ipykernel_launcher.py:15: SettingWithCopyWarning: \n",
      "A value is trying to be set on a copy of a slice from a DataFrame\n",
      "\n",
      "See the caveats in the documentation: https://pandas.pydata.org/pandas-docs/stable/user_guide/indexing.html#returning-a-view-versus-a-copy\n",
      "  from ipykernel import kernelapp as app\n",
      "d:\\projects\\dcase\\venv\\lib\\site-packages\\pandas\\core\\generic.py:8765: SettingWithCopyWarning: \n",
      "A value is trying to be set on a copy of a slice from a DataFrame\n",
      "\n",
      "See the caveats in the documentation: https://pandas.pydata.org/pandas-docs/stable/user_guide/indexing.html#returning-a-view-versus-a-copy\n",
      "  self._update_inplace(new_data)\n",
      "d:\\projects\\dcase\\venv\\lib\\site-packages\\ipykernel_launcher.py:15: SettingWithCopyWarning: \n",
      "A value is trying to be set on a copy of a slice from a DataFrame\n",
      "\n",
      "See the caveats in the documentation: https://pandas.pydata.org/pandas-docs/stable/user_guide/indexing.html#returning-a-view-versus-a-copy\n",
      "  from ipykernel import kernelapp as app\n",
      "d:\\projects\\dcase\\venv\\lib\\site-packages\\pandas\\core\\generic.py:8765: SettingWithCopyWarning: \n",
      "A value is trying to be set on a copy of a slice from a DataFrame\n",
      "\n",
      "See the caveats in the documentation: https://pandas.pydata.org/pandas-docs/stable/user_guide/indexing.html#returning-a-view-versus-a-copy\n",
      "  self._update_inplace(new_data)\n",
      "d:\\projects\\dcase\\venv\\lib\\site-packages\\ipykernel_launcher.py:15: SettingWithCopyWarning: \n",
      "A value is trying to be set on a copy of a slice from a DataFrame\n",
      "\n",
      "See the caveats in the documentation: https://pandas.pydata.org/pandas-docs/stable/user_guide/indexing.html#returning-a-view-versus-a-copy\n",
      "  from ipykernel import kernelapp as app\n"
     ]
    }
   ],
   "source": [
    "# X_test=pd.read_csv(r'D:\\Ботать\\Работа\\dcase\\thrash\\csv_vgg19_features\\test\\Xtest.csv',index_col=0,header=0)\n",
    "# X_test=X_test.drop(columns=['y', 'ind', 'num' ])\n",
    "# X_test=sc.transform(X_test)\n",
    "# X_test=fit.transform(X_test)"
   ],
   "metadata": {
    "collapsed": false,
    "pycharm": {
     "name": "#%%\n"
    }
   }
  },
  {
   "cell_type": "code",
   "execution_count": 6,
   "outputs": [
    {
     "ename": "ValueError",
     "evalue": "Only one class present in y_true. ROC AUC score is not defined in that case.",
     "output_type": "error",
     "traceback": [
      "\u001B[1;31m---------------------------------------------------------------------------\u001B[0m",
      "\u001B[1;31mValueError\u001B[0m                                Traceback (most recent call last)",
      "\u001B[1;32m<ipython-input-6-f6e664ef035d>\u001B[0m in \u001B[0;36m<module>\u001B[1;34m\u001B[0m\n\u001B[0;32m      3\u001B[0m \u001B[0my_test\u001B[0m\u001B[1;33m[\u001B[0m\u001B[0my_test\u001B[0m \u001B[1;33m==\u001B[0m \u001B[1;36m1\u001B[0m\u001B[1;33m]\u001B[0m \u001B[1;33m=\u001B[0m \u001B[1;33m-\u001B[0m\u001B[1;36m1\u001B[0m\u001B[1;33m\u001B[0m\u001B[1;33m\u001B[0m\u001B[0m\n\u001B[0;32m      4\u001B[0m \u001B[0my_test\u001B[0m\u001B[1;33m[\u001B[0m\u001B[0my_test\u001B[0m \u001B[1;33m==\u001B[0m \u001B[1;36m0\u001B[0m\u001B[1;33m]\u001B[0m \u001B[1;33m=\u001B[0m \u001B[1;36m1\u001B[0m\u001B[1;33m\u001B[0m\u001B[1;33m\u001B[0m\u001B[0m\n\u001B[1;32m----> 5\u001B[1;33m \u001B[0mprint\u001B[0m\u001B[1;33m(\u001B[0m\u001B[1;34m'auc = '\u001B[0m\u001B[1;33m,\u001B[0m\u001B[0mroc_auc_score\u001B[0m\u001B[1;33m(\u001B[0m\u001B[0my_test\u001B[0m\u001B[1;33m,\u001B[0m\u001B[0mres\u001B[0m\u001B[1;33m)\u001B[0m\u001B[1;33m,\u001B[0m\u001B[1;34m' pauc = '\u001B[0m\u001B[1;33m,\u001B[0m\u001B[0mroc_auc_score\u001B[0m\u001B[1;33m(\u001B[0m\u001B[0my_test\u001B[0m\u001B[1;33m,\u001B[0m\u001B[0mres\u001B[0m\u001B[1;33m,\u001B[0m\u001B[0mmax_fpr\u001B[0m\u001B[1;33m=\u001B[0m\u001B[1;36m0.1\u001B[0m\u001B[1;33m)\u001B[0m\u001B[1;33m,\u001B[0m\u001B[1;34m' f1 = '\u001B[0m\u001B[1;33m,\u001B[0m\u001B[0mf1_score\u001B[0m\u001B[1;33m(\u001B[0m\u001B[0my_test\u001B[0m\u001B[1;33m,\u001B[0m\u001B[0mres\u001B[0m\u001B[1;33m)\u001B[0m\u001B[1;33m)\u001B[0m\u001B[1;33m\u001B[0m\u001B[1;33m\u001B[0m\u001B[0m\n\u001B[0m\u001B[0;32m      6\u001B[0m \u001B[1;33m\u001B[0m\u001B[0m\n",
      "\u001B[1;32md:\\projects\\dcase\\venv\\lib\\site-packages\\sklearn\\utils\\validation.py\u001B[0m in \u001B[0;36minner_f\u001B[1;34m(*args, **kwargs)\u001B[0m\n\u001B[0;32m     71\u001B[0m                           FutureWarning)\n\u001B[0;32m     72\u001B[0m         \u001B[0mkwargs\u001B[0m\u001B[1;33m.\u001B[0m\u001B[0mupdate\u001B[0m\u001B[1;33m(\u001B[0m\u001B[1;33m{\u001B[0m\u001B[0mk\u001B[0m\u001B[1;33m:\u001B[0m \u001B[0marg\u001B[0m \u001B[1;32mfor\u001B[0m \u001B[0mk\u001B[0m\u001B[1;33m,\u001B[0m \u001B[0marg\u001B[0m \u001B[1;32min\u001B[0m \u001B[0mzip\u001B[0m\u001B[1;33m(\u001B[0m\u001B[0msig\u001B[0m\u001B[1;33m.\u001B[0m\u001B[0mparameters\u001B[0m\u001B[1;33m,\u001B[0m \u001B[0margs\u001B[0m\u001B[1;33m)\u001B[0m\u001B[1;33m}\u001B[0m\u001B[1;33m)\u001B[0m\u001B[1;33m\u001B[0m\u001B[1;33m\u001B[0m\u001B[0m\n\u001B[1;32m---> 73\u001B[1;33m         \u001B[1;32mreturn\u001B[0m \u001B[0mf\u001B[0m\u001B[1;33m(\u001B[0m\u001B[1;33m**\u001B[0m\u001B[0mkwargs\u001B[0m\u001B[1;33m)\u001B[0m\u001B[1;33m\u001B[0m\u001B[1;33m\u001B[0m\u001B[0m\n\u001B[0m\u001B[0;32m     74\u001B[0m     \u001B[1;32mreturn\u001B[0m \u001B[0minner_f\u001B[0m\u001B[1;33m\u001B[0m\u001B[1;33m\u001B[0m\u001B[0m\n\u001B[0;32m     75\u001B[0m \u001B[1;33m\u001B[0m\u001B[0m\n",
      "\u001B[1;32md:\\projects\\dcase\\venv\\lib\\site-packages\\sklearn\\metrics\\_ranking.py\u001B[0m in \u001B[0;36mroc_auc_score\u001B[1;34m(y_true, y_score, average, sample_weight, max_fpr, multi_class, labels)\u001B[0m\n\u001B[0;32m    391\u001B[0m                                              max_fpr=max_fpr),\n\u001B[0;32m    392\u001B[0m                                      \u001B[0my_true\u001B[0m\u001B[1;33m,\u001B[0m \u001B[0my_score\u001B[0m\u001B[1;33m,\u001B[0m \u001B[0maverage\u001B[0m\u001B[1;33m,\u001B[0m\u001B[1;33m\u001B[0m\u001B[1;33m\u001B[0m\u001B[0m\n\u001B[1;32m--> 393\u001B[1;33m                                      sample_weight=sample_weight)\n\u001B[0m\u001B[0;32m    394\u001B[0m     \u001B[1;32melse\u001B[0m\u001B[1;33m:\u001B[0m  \u001B[1;31m# multilabel-indicator\u001B[0m\u001B[1;33m\u001B[0m\u001B[1;33m\u001B[0m\u001B[0m\n\u001B[0;32m    395\u001B[0m         return _average_binary_score(partial(_binary_roc_auc_score,\n",
      "\u001B[1;32md:\\projects\\dcase\\venv\\lib\\site-packages\\sklearn\\metrics\\_base.py\u001B[0m in \u001B[0;36m_average_binary_score\u001B[1;34m(binary_metric, y_true, y_score, average, sample_weight)\u001B[0m\n\u001B[0;32m     75\u001B[0m \u001B[1;33m\u001B[0m\u001B[0m\n\u001B[0;32m     76\u001B[0m     \u001B[1;32mif\u001B[0m \u001B[0my_type\u001B[0m \u001B[1;33m==\u001B[0m \u001B[1;34m\"binary\"\u001B[0m\u001B[1;33m:\u001B[0m\u001B[1;33m\u001B[0m\u001B[1;33m\u001B[0m\u001B[0m\n\u001B[1;32m---> 77\u001B[1;33m         \u001B[1;32mreturn\u001B[0m \u001B[0mbinary_metric\u001B[0m\u001B[1;33m(\u001B[0m\u001B[0my_true\u001B[0m\u001B[1;33m,\u001B[0m \u001B[0my_score\u001B[0m\u001B[1;33m,\u001B[0m \u001B[0msample_weight\u001B[0m\u001B[1;33m=\u001B[0m\u001B[0msample_weight\u001B[0m\u001B[1;33m)\u001B[0m\u001B[1;33m\u001B[0m\u001B[1;33m\u001B[0m\u001B[0m\n\u001B[0m\u001B[0;32m     78\u001B[0m \u001B[1;33m\u001B[0m\u001B[0m\n\u001B[0;32m     79\u001B[0m     \u001B[0mcheck_consistent_length\u001B[0m\u001B[1;33m(\u001B[0m\u001B[0my_true\u001B[0m\u001B[1;33m,\u001B[0m \u001B[0my_score\u001B[0m\u001B[1;33m,\u001B[0m \u001B[0msample_weight\u001B[0m\u001B[1;33m)\u001B[0m\u001B[1;33m\u001B[0m\u001B[1;33m\u001B[0m\u001B[0m\n",
      "\u001B[1;32md:\\projects\\dcase\\venv\\lib\\site-packages\\sklearn\\metrics\\_ranking.py\u001B[0m in \u001B[0;36m_binary_roc_auc_score\u001B[1;34m(y_true, y_score, sample_weight, max_fpr)\u001B[0m\n\u001B[0;32m    221\u001B[0m     \u001B[1;34m\"\"\"Binary roc auc score\"\"\"\u001B[0m\u001B[1;33m\u001B[0m\u001B[1;33m\u001B[0m\u001B[0m\n\u001B[0;32m    222\u001B[0m     \u001B[1;32mif\u001B[0m \u001B[0mlen\u001B[0m\u001B[1;33m(\u001B[0m\u001B[0mnp\u001B[0m\u001B[1;33m.\u001B[0m\u001B[0munique\u001B[0m\u001B[1;33m(\u001B[0m\u001B[0my_true\u001B[0m\u001B[1;33m)\u001B[0m\u001B[1;33m)\u001B[0m \u001B[1;33m!=\u001B[0m \u001B[1;36m2\u001B[0m\u001B[1;33m:\u001B[0m\u001B[1;33m\u001B[0m\u001B[1;33m\u001B[0m\u001B[0m\n\u001B[1;32m--> 223\u001B[1;33m         raise ValueError(\"Only one class present in y_true. ROC AUC score \"\n\u001B[0m\u001B[0;32m    224\u001B[0m                          \"is not defined in that case.\")\n\u001B[0;32m    225\u001B[0m \u001B[1;33m\u001B[0m\u001B[0m\n",
      "\u001B[1;31mValueError\u001B[0m: Only one class present in y_true. ROC AUC score is not defined in that case."
     ]
    }
   ],
   "source": [
    "res=model0.predict(X_test)\n",
    "y_test=Y_test['y']\n",
    "y_test[y_test == 1] = -1\n",
    "y_test[y_test == 0] = 1\n",
    "print('auc = ',roc_auc_score(y_test,res),' pauc = ',roc_auc_score(y_test,res,max_fpr=0.1),' f1 = ',f1_score(y_test,res))"
   ],
   "metadata": {
    "collapsed": false,
    "pycharm": {
     "name": "#%%\n"
    }
   }
  },
  {
   "cell_type": "code",
   "execution_count": 16,
   "outputs": [
    {
     "name": "stdout",
     "output_type": "stream",
     "text": [
      "          0         1         2         3         4         5         6  \\\n",
      "0  0.000051  0.000052  0.000415  0.000390  0.001221  0.000447  0.000896   \n",
      "1  0.000058  0.000082  0.000602  0.000624  0.001961  0.000663  0.001440   \n",
      "2  0.000048  0.000064  0.000523  0.000502  0.001673  0.000760  0.001283   \n",
      "3  0.000049  0.000065  0.000430  0.000457  0.001746  0.000719  0.001529   \n",
      "4  0.000048  0.000055  0.000514  0.000482  0.001459  0.000601  0.001012   \n",
      "\n",
      "          7         8         9  ...       990       991       992       993  \\\n",
      "0  0.000290  0.000353  0.000317  ...  0.000112  0.000134  0.000051  0.000034   \n",
      "1  0.000490  0.000567  0.000460  ...  0.000142  0.000180  0.000068  0.000047   \n",
      "2  0.000429  0.000592  0.000501  ...  0.000138  0.000161  0.000067  0.000040   \n",
      "3  0.000399  0.000451  0.000350  ...  0.000093  0.000190  0.000053  0.000027   \n",
      "4  0.000425  0.000549  0.000391  ...  0.000129  0.000160  0.000071  0.000047   \n",
      "\n",
      "        994       995       996       997       998       999  \n",
      "0  0.000041  0.000012  0.000035  0.000037  0.000090  0.000376  \n",
      "1  0.000055  0.000018  0.000050  0.000045  0.000111  0.000494  \n",
      "2  0.000057  0.000018  0.000050  0.000042  0.000112  0.000515  \n",
      "3  0.000044  0.000012  0.000036  0.000035  0.000111  0.000429  \n",
      "4  0.000056  0.000017  0.000052  0.000045  0.000103  0.000453  \n",
      "\n",
      "[5 rows x 1000 columns]\n",
      "id  0.0\n",
      "auc =  0.470958230958231  pauc =  0.49706054969212865  f1 =  0.5811437403400309\n",
      "id  2.0\n",
      "auc =  0.4625905292479109  pauc =  0.4963538527532077  f1 =  0.5758620689655173\n",
      "id  4.0\n",
      "auc =  0.5314942528735632  pauc =  0.5036034614271812  f1 =  0.6319444444444444\n",
      "id  6.0\n",
      "auc =  0.4720775623268698  pauc =  0.4973757107450065  f1 =  0.6076794657762937\n"
     ]
    },
    {
     "name": "stderr",
     "output_type": "stream",
     "text": [
      "d:\\projects\\dcase\\venv\\lib\\site-packages\\pandas\\core\\generic.py:8765: SettingWithCopyWarning: \n",
      "A value is trying to be set on a copy of a slice from a DataFrame\n",
      "\n",
      "See the caveats in the documentation: https://pandas.pydata.org/pandas-docs/stable/user_guide/indexing.html#returning-a-view-versus-a-copy\n",
      "  self._update_inplace(new_data)\n",
      "d:\\projects\\dcase\\venv\\lib\\site-packages\\ipykernel_launcher.py:10: SettingWithCopyWarning: \n",
      "A value is trying to be set on a copy of a slice from a DataFrame\n",
      "\n",
      "See the caveats in the documentation: https://pandas.pydata.org/pandas-docs/stable/user_guide/indexing.html#returning-a-view-versus-a-copy\n",
      "  # Remove the CWD from sys.path while we load stuff.\n",
      "d:\\projects\\dcase\\venv\\lib\\site-packages\\pandas\\core\\generic.py:8765: SettingWithCopyWarning: \n",
      "A value is trying to be set on a copy of a slice from a DataFrame\n",
      "\n",
      "See the caveats in the documentation: https://pandas.pydata.org/pandas-docs/stable/user_guide/indexing.html#returning-a-view-versus-a-copy\n",
      "  self._update_inplace(new_data)\n",
      "d:\\projects\\dcase\\venv\\lib\\site-packages\\ipykernel_launcher.py:10: SettingWithCopyWarning: \n",
      "A value is trying to be set on a copy of a slice from a DataFrame\n",
      "\n",
      "See the caveats in the documentation: https://pandas.pydata.org/pandas-docs/stable/user_guide/indexing.html#returning-a-view-versus-a-copy\n",
      "  # Remove the CWD from sys.path while we load stuff.\n",
      "d:\\projects\\dcase\\venv\\lib\\site-packages\\pandas\\core\\generic.py:8765: SettingWithCopyWarning: \n",
      "A value is trying to be set on a copy of a slice from a DataFrame\n",
      "\n",
      "See the caveats in the documentation: https://pandas.pydata.org/pandas-docs/stable/user_guide/indexing.html#returning-a-view-versus-a-copy\n",
      "  self._update_inplace(new_data)\n",
      "d:\\projects\\dcase\\venv\\lib\\site-packages\\ipykernel_launcher.py:10: SettingWithCopyWarning: \n",
      "A value is trying to be set on a copy of a slice from a DataFrame\n",
      "\n",
      "See the caveats in the documentation: https://pandas.pydata.org/pandas-docs/stable/user_guide/indexing.html#returning-a-view-versus-a-copy\n",
      "  # Remove the CWD from sys.path while we load stuff.\n",
      "d:\\projects\\dcase\\venv\\lib\\site-packages\\pandas\\core\\generic.py:8765: SettingWithCopyWarning: \n",
      "A value is trying to be set on a copy of a slice from a DataFrame\n",
      "\n",
      "See the caveats in the documentation: https://pandas.pydata.org/pandas-docs/stable/user_guide/indexing.html#returning-a-view-versus-a-copy\n",
      "  self._update_inplace(new_data)\n",
      "d:\\projects\\dcase\\venv\\lib\\site-packages\\ipykernel_launcher.py:10: SettingWithCopyWarning: \n",
      "A value is trying to be set on a copy of a slice from a DataFrame\n",
      "\n",
      "See the caveats in the documentation: https://pandas.pydata.org/pandas-docs/stable/user_guide/indexing.html#returning-a-view-versus-a-copy\n",
      "  # Remove the CWD from sys.path while we load stuff.\n"
     ]
    }
   ],
   "source": [
    "ids=Y_test['ind'].unique()\n",
    "X_test=pd.DataFrame(X_test)\n",
    "print(X_test.head())\n",
    "\n",
    "for id in ids:\n",
    "    Xid=X_test.loc[Y_test['ind']==id]\n",
    "    res=model0.predict(Xid.values)\n",
    "    y_test=Y_test.loc[Y_test['ind']==id]['y']\n",
    "    y_test[y_test == 1] = -1\n",
    "    y_test[y_test == 0] = 1\n",
    "    print('id ',id)\n",
    "    print('auc = ',roc_auc_score(y_test,res),' pauc = ',roc_auc_score(y_test,res,max_fpr=0.1),' f1 = ',f1_score(y_test,res))"
   ],
   "metadata": {
    "collapsed": false,
    "pycharm": {
     "name": "#%%\n"
    }
   }
  },
  {
   "cell_type": "code",
   "execution_count": 10,
   "outputs": [
    {
     "name": "stdout",
     "output_type": "stream",
     "text": [
      "0.5128958125605907\n"
     ]
    }
   ],
   "source": [],
   "metadata": {
    "collapsed": false,
    "pycharm": {
     "name": "#%%\n"
    }
   }
  },
  {
   "cell_type": "code",
   "execution_count": 17,
   "outputs": [
    {
     "name": "stderr",
     "output_type": "stream",
     "text": [
      "d:\\projects\\dcase\\venv\\lib\\site-packages\\pandas\\core\\generic.py:8765: SettingWithCopyWarning: \n",
      "A value is trying to be set on a copy of a slice from a DataFrame\n",
      "\n",
      "See the caveats in the documentation: https://pandas.pydata.org/pandas-docs/stable/user_guide/indexing.html#returning-a-view-versus-a-copy\n",
      "  self._update_inplace(new_data)\n",
      "d:\\projects\\dcase\\venv\\lib\\site-packages\\pandas\\core\\generic.py:8765: SettingWithCopyWarning: \n",
      "A value is trying to be set on a copy of a slice from a DataFrame\n",
      "\n",
      "See the caveats in the documentation: https://pandas.pydata.org/pandas-docs/stable/user_guide/indexing.html#returning-a-view-versus-a-copy\n",
      "  self._update_inplace(new_data)\n",
      "d:\\projects\\dcase\\venv\\lib\\site-packages\\pandas\\core\\generic.py:8765: SettingWithCopyWarning: \n",
      "A value is trying to be set on a copy of a slice from a DataFrame\n",
      "\n",
      "See the caveats in the documentation: https://pandas.pydata.org/pandas-docs/stable/user_guide/indexing.html#returning-a-view-versus-a-copy\n",
      "  self._update_inplace(new_data)\n",
      "d:\\projects\\dcase\\venv\\lib\\site-packages\\pandas\\core\\generic.py:8765: SettingWithCopyWarning: \n",
      "A value is trying to be set on a copy of a slice from a DataFrame\n",
      "\n",
      "See the caveats in the documentation: https://pandas.pydata.org/pandas-docs/stable/user_guide/indexing.html#returning-a-view-versus-a-copy\n",
      "  self._update_inplace(new_data)\n"
     ]
    },
    {
     "name": "stdout",
     "output_type": "stream",
     "text": [
      "id  0.0\n",
      "auc =  0.5119410319410319  pauc =  0.50067136344799  f1 =  0.3327556325823224\n",
      "id  2.0\n",
      "auc =  0.5000696378830083  pauc =  0.5000038586201574  f1 =  0.3544776119402985\n",
      "id  4.0\n",
      "auc =  0.5151724137931034  pauc =  0.5008498309995172  f1 =  0.37022900763358774\n",
      "id  6.0\n",
      "auc =  0.5151662049861496  pauc =  0.5008679454660748  f1 =  0.3605313092979127\n"
     ]
    }
   ],
   "source": [
    "from sklearn.metrics import roc_auc_score,f1_score\n",
    "from sklearn.ensemble import IsolationForest\n",
    "from sklearn.preprocessing import StandardScaler\n",
    "import pandas as pd\n",
    "X_test=pd.read_csv(r'D:\\Projects\\dcase\\thrash\\csv_incepcion_features\\test\\Xtest.csv',index_col=0,header=0)\n",
    "Y_test=X_test[['y',  'ind' ]]\n",
    "X_test=X_test.drop(columns=['y','num'])\n",
    "ids=Y_test['ind'].unique()\n",
    "for id in ids:\n",
    "    Xid=X_test.loc[X_test['ind']==id]\n",
    "    Xid=Xid.drop(columns=['ind'])\n",
    "    model = IsolationForest(n_estimators=500)\n",
    "    res=model.fit_predict(Xid)\n",
    "    y_test=Y_test.loc[Y_test['ind']==id]['y']\n",
    "    y_test[y_test == 0] = -1\n",
    "    print('id ',id)\n",
    "    print('auc = ',roc_auc_score(y_test,res),' pauc = ',roc_auc_score(y_test,res,max_fpr=0.1),' f1 = ',f1_score(y_test,res))"
   ],
   "metadata": {
    "collapsed": false,
    "pycharm": {
     "name": "#%%\n"
    }
   }
  }
 ],
 "metadata": {
  "kernelspec": {
   "display_name": "Python 3",
   "language": "python",
   "name": "python3"
  },
  "language_info": {
   "codemirror_mode": {
    "name": "ipython",
    "version": 2
   },
   "file_extension": ".py",
   "mimetype": "text/x-python",
   "name": "python",
   "nbconvert_exporter": "python",
   "pygments_lexer": "ipython2",
   "version": "2.7.6"
  }
 },
 "nbformat": 4,
 "nbformat_minor": 0
}