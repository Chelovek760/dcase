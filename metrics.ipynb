{
 "cells": [
  {
   "cell_type": "code",
   "execution_count": 1,
   "metadata": {},
   "outputs": [],
   "source": [
    "import pandas as pd\n",
    "import numpy as np\n",
    "from sklearn import metrics\n",
    "import os\n",
    "import glob"
   ]
  },
  {
   "cell_type": "code",
   "execution_count": 2,
   "metadata": {},
   "outputs": [],
   "source": [
    "data_good = pd.DataFrame(columns=['name', 'error_good'])\n",
    "for csv in glob.glob(r'result_test\\good\\*.csv'):\n",
    "    data_good = data_good.append(pd.read_csv(csv, names=['name', 'error_good'])) "
   ]
  },
  {
   "cell_type": "code",
   "execution_count": 3,
   "metadata": {},
   "outputs": [],
   "source": [
    "data_bad = pd.DataFrame(columns=['name', 'error_bad'])\n",
    "for csv in glob.glob(r'result_test\\bad\\*.csv'):\n",
    "    data_bad = data_bad.append(pd.read_csv(csv, names=['name', 'error_bad'])) "
   ]
  },
  {
   "cell_type": "code",
   "execution_count": 4,
   "metadata": {},
   "outputs": [
    {
     "output_type": "execute_result",
     "data": {
      "text/plain": "                        name   error_good   error_bad\n0  normal_id_00_00000000.wav   846.476096  498.702882\n1  normal_id_00_00000001.wav  1101.708111         NaN\n2  normal_id_00_00000002.wav   606.790945  432.656438\n3  normal_id_00_00000003.wav  1424.738317  592.626835\n4  normal_id_00_00000004.wav  1196.549121  789.238947",
      "text/html": "<div>\n<style scoped>\n    .dataframe tbody tr th:only-of-type {\n        vertical-align: middle;\n    }\n\n    .dataframe tbody tr th {\n        vertical-align: top;\n    }\n\n    .dataframe thead th {\n        text-align: right;\n    }\n</style>\n<table border=\"1\" class=\"dataframe\">\n  <thead>\n    <tr style=\"text-align: right;\">\n      <th></th>\n      <th>name</th>\n      <th>error_good</th>\n      <th>error_bad</th>\n    </tr>\n  </thead>\n  <tbody>\n    <tr>\n      <th>0</th>\n      <td>normal_id_00_00000000.wav</td>\n      <td>846.476096</td>\n      <td>498.702882</td>\n    </tr>\n    <tr>\n      <th>1</th>\n      <td>normal_id_00_00000001.wav</td>\n      <td>1101.708111</td>\n      <td>NaN</td>\n    </tr>\n    <tr>\n      <th>2</th>\n      <td>normal_id_00_00000002.wav</td>\n      <td>606.790945</td>\n      <td>432.656438</td>\n    </tr>\n    <tr>\n      <th>3</th>\n      <td>normal_id_00_00000003.wav</td>\n      <td>1424.738317</td>\n      <td>592.626835</td>\n    </tr>\n    <tr>\n      <th>4</th>\n      <td>normal_id_00_00000004.wav</td>\n      <td>1196.549121</td>\n      <td>789.238947</td>\n    </tr>\n  </tbody>\n</table>\n</div>"
     },
     "metadata": {},
     "execution_count": 4
    }
   ],
   "source": [
    "data = pd.merge(data_good, data_bad, on='name')\n",
    "data.head(5)"
   ]
  },
  {
   "cell_type": "code",
   "execution_count": 5,
   "metadata": {},
   "outputs": [
    {
     "output_type": "execute_result",
     "data": {
      "text/plain": "                        name   error_good   error_bad  status  id\n0  normal_id_00_00000000.wav   846.476096  498.702882  normal  00\n1  normal_id_00_00000001.wav  1101.708111         NaN  normal  00\n2  normal_id_00_00000002.wav   606.790945  432.656438  normal  00\n3  normal_id_00_00000003.wav  1424.738317  592.626835  normal  00\n4  normal_id_00_00000004.wav  1196.549121  789.238947  normal  00",
      "text/html": "<div>\n<style scoped>\n    .dataframe tbody tr th:only-of-type {\n        vertical-align: middle;\n    }\n\n    .dataframe tbody tr th {\n        vertical-align: top;\n    }\n\n    .dataframe thead th {\n        text-align: right;\n    }\n</style>\n<table border=\"1\" class=\"dataframe\">\n  <thead>\n    <tr style=\"text-align: right;\">\n      <th></th>\n      <th>name</th>\n      <th>error_good</th>\n      <th>error_bad</th>\n      <th>status</th>\n      <th>id</th>\n    </tr>\n  </thead>\n  <tbody>\n    <tr>\n      <th>0</th>\n      <td>normal_id_00_00000000.wav</td>\n      <td>846.476096</td>\n      <td>498.702882</td>\n      <td>normal</td>\n      <td>00</td>\n    </tr>\n    <tr>\n      <th>1</th>\n      <td>normal_id_00_00000001.wav</td>\n      <td>1101.708111</td>\n      <td>NaN</td>\n      <td>normal</td>\n      <td>00</td>\n    </tr>\n    <tr>\n      <th>2</th>\n      <td>normal_id_00_00000002.wav</td>\n      <td>606.790945</td>\n      <td>432.656438</td>\n      <td>normal</td>\n      <td>00</td>\n    </tr>\n    <tr>\n      <th>3</th>\n      <td>normal_id_00_00000003.wav</td>\n      <td>1424.738317</td>\n      <td>592.626835</td>\n      <td>normal</td>\n      <td>00</td>\n    </tr>\n    <tr>\n      <th>4</th>\n      <td>normal_id_00_00000004.wav</td>\n      <td>1196.549121</td>\n      <td>789.238947</td>\n      <td>normal</td>\n      <td>00</td>\n    </tr>\n  </tbody>\n</table>\n</div>"
     },
     "metadata": {},
     "execution_count": 5
    }
   ],
   "source": [
    "data['status'] = data['name'].str.split('_').apply(lambda x: x[0])\n",
    "data['id'] = data['name'].str.split('_').apply(lambda x: x[2])\n",
    "data.head(5)"
   ]
  },
  {
   "cell_type": "code",
   "execution_count": 6,
   "metadata": {},
   "outputs": [],
   "source": [
    "data_na = data.dropna()"
   ]
  },
  {
   "cell_type": "code",
   "execution_count": 7,
   "metadata": {},
   "outputs": [],
   "source": [
    "normal_labels = np.zeros((data_na['status'] == 'normal').sum())\n",
    "anomaly_labels = np.ones((data_na['status'] == 'anomaly').sum())\n",
    "y_true = np.concatenate((normal_labels, anomaly_labels), axis=0)"
   ]
  },
  {
   "cell_type": "code",
   "execution_count": 11,
   "metadata": {},
   "outputs": [],
   "source": [
    "y_pred = data_na['error_good']\n",
    "auc = metrics.roc_auc_score(y_true, y_pred, average='macro')"
   ]
  },
  {
   "cell_type": "code",
   "execution_count": 12,
   "metadata": {},
   "outputs": [
    {
     "output_type": "execute_result",
     "data": {
      "text/plain": "0.6332166733970477"
     },
     "metadata": {},
     "execution_count": 12
    }
   ],
   "source": [
    "auc"
   ]
  },
  {
   "cell_type": "code",
   "execution_count": null,
   "metadata": {},
   "outputs": [],
   "source": []
  }
 ],
 "metadata": {
  "language_info": {
   "codemirror_mode": {
    "name": "ipython",
    "version": 3
   },
   "file_extension": ".py",
   "mimetype": "text/x-python",
   "name": "python",
   "nbconvert_exporter": "python",
   "pygments_lexer": "ipython3",
   "version": "3.7.6-final"
  },
  "orig_nbformat": 2,
  "kernelspec": {
   "name": "python37664bitenvvenv8ca4272d44b74e8db2f588ebd4cbb31b",
   "display_name": "Python 3.7.6 64-bit ('env': venv)"
  }
 },
 "nbformat": 4,
 "nbformat_minor": 2
}