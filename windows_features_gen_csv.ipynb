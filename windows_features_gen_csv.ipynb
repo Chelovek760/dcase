{
 "cells": [
  {
   "cell_type": "code",
   "execution_count": 1,
   "metadata": {
    "collapsed": true
   },
   "outputs": [],
   "source": [
    "import matplotlib.pyplot as plt\n",
    "import numpy as np\n",
    "import pandas as pd\n",
    "from saparator import Buono_Brutto_Cattivo\n",
    "from config import TRAIN_WAV_DIR,DCASE_CSV_DIR_TRAIN\n",
    "import pathlib\n",
    "from tqdm import tqdm"
   ]
  },
  {
   "cell_type": "code",
   "execution_count": 2,
   "outputs": [
    {
     "name": "stderr",
     "output_type": "stream",
     "text": [
      " 49%|████▉     | 1797/3675 [17:57<18:24,  1.70it/s]d:\\ботать\\работа\\dcase\\venv\\lib\\site-packages\\scipy\\stats\\_distn_infrastructure.py:2664: RuntimeWarning: divide by zero encountered in true_divide\n",
      "  pk = 1.0*pk / np.sum(pk, axis=axis, keepdims=True)\n",
      "d:\\ботать\\работа\\dcase\\venv\\lib\\site-packages\\scipy\\stats\\_distn_infrastructure.py:2664: RuntimeWarning: invalid value encountered in true_divide\n",
      "  pk = 1.0*pk / np.sum(pk, axis=axis, keepdims=True)\n",
      "100%|██████████| 3675/3675 [36:36<00:00,  1.67it/s]\n"
     ]
    }
   ],
   "source": [
    "directory = TRAIN_WAV_DIR\n",
    "files = pathlib.Path(directory)\n",
    "files = list(files.glob('*.wav'))\n",
    "count_bad=0\n",
    "for num,wav in tqdm(enumerate(files),total=len(files)):\n",
    "    name=wav.stem.split('_')[0]\n",
    "    id_wav=int(wav.stem.split('_')[2])\n",
    "    num_id_wav=int(wav.stem.split('_')[3])\n",
    "    if name=='normal':\n",
    "        y=1\n",
    "    else:\n",
    "        y=0\n",
    "    bbc=Buono_Brutto_Cattivo()\n",
    "    _,bfeat=bbc.features_generator(wav)\n",
    "    for frame in bfeat:\n",
    "        if count_bad==0:\n",
    "            col=list(bfeat[frame].keys())+['y']+['ind']+['num']\n",
    "            data=np.zeros((len(files)*bbc.segment_number,len(col)))\n",
    "            X_b=pd.DataFrame(data)\n",
    "            X_b.columns=col\n",
    "        X_b.loc[count_bad,list(bfeat[frame].keys())]=list(bfeat[frame].values())\n",
    "        X_b.loc[count_bad,'y']=y\n",
    "        X_b.loc[count_bad,'ind']=id_wav\n",
    "        X_b.loc[count_bad,'num']=num_id_wav\n",
    "        count_bad+=1"
   ],
   "metadata": {
    "collapsed": false,
    "pycharm": {
     "name": "#%%\n"
    }
   }
  },
  {
   "cell_type": "code",
   "execution_count": 3,
   "outputs": [],
   "source": [
    "X_b=X_b.loc[~(X_b==0).all(axis=1)]\n",
    "X_b.to_csv(DCASE_CSV_DIR_TRAIN+'Xtrain.csv')"
   ],
   "metadata": {
    "collapsed": false,
    "pycharm": {
     "name": "#%%\n"
    }
   }
  },
  {
   "cell_type": "code",
   "execution_count": 4,
   "outputs": [
    {
     "name": "stderr",
     "output_type": "stream",
     "text": [
      "100%|██████████| 1875/1875 [20:17<00:00,  1.54it/s]\n"
     ]
    }
   ],
   "source": [
    "from config import TEST_WAV_DIR,DCASE_CSV_DIR_TEST\n",
    "directory = TEST_WAV_DIR\n",
    "files = pathlib.Path(directory)\n",
    "files = list(files.glob('*.wav'))\n",
    "count_good=0\n",
    "count_bad=0\n",
    "for num,wav in tqdm(enumerate(files),total=len(files)):\n",
    "    name=wav.stem.split('_')[0]\n",
    "    id_wav=int(wav.stem.split('_')[2])\n",
    "    num_id_wav=int(wav.stem.split('_')[3])\n",
    "    if name=='normal':\n",
    "        y=1\n",
    "    else:\n",
    "        y=0\n",
    "    bbc=Buono_Brutto_Cattivo()\n",
    "    _,bfeat=bbc.features_generator(wav)\n",
    "    for frame in bfeat:\n",
    "        if count_bad==0:\n",
    "            col=list(bfeat[frame].keys())+['y']+['ind']+['num']\n",
    "            data=np.zeros((len(files)*bbc.segment_number,len(col)))\n",
    "            X_b=pd.DataFrame(data)\n",
    "            X_b.columns=col\n",
    "        X_b.loc[count_bad,list(bfeat[frame].keys())]=list(bfeat[frame].values())\n",
    "        X_b.loc[count_bad,'y']=y\n",
    "        X_b.loc[count_bad,'ind']=id_wav\n",
    "        X_b.loc[count_bad,'num']=num_id_wav\n",
    "        count_bad+=1"
   ],
   "metadata": {
    "collapsed": false,
    "pycharm": {
     "name": "#%%\n"
    }
   }
  },
  {
   "cell_type": "code",
   "execution_count": 5,
   "outputs": [],
   "source": [
    "X_b=X_b.loc[~(X_b==0).all(axis=1)]\n",
    "X_b.to_csv(DCASE_CSV_DIR_TEST+'Xtest.csv')"
   ],
   "metadata": {
    "collapsed": false,
    "pycharm": {
     "name": "#%%\n"
    }
   }
  }
 ],
 "metadata": {
  "kernelspec": {
   "display_name": "Python 3",
   "language": "python",
   "name": "python3"
  },
  "language_info": {
   "codemirror_mode": {
    "name": "ipython",
    "version": 2
   },
   "file_extension": ".py",
   "mimetype": "text/x-python",
   "name": "python",
   "nbconvert_exporter": "python",
   "pygments_lexer": "ipython2",
   "version": "2.7.6"
  }
 },
 "nbformat": 4,
 "nbformat_minor": 0
}