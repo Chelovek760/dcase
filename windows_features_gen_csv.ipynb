{
 "cells": [
  {
   "cell_type": "code",
   "execution_count": 1,
   "metadata": {
    "collapsed": true
   },
   "outputs": [],
   "source": [
    "import matplotlib.pyplot as plt\n",
    "import numpy as np\n",
    "import pandas as pd\n",
    "from saparator import Buono_Brutto_Cattivo\n",
    "from config import TRAIN_WAV_DIR,DCASE_CSV_DIR_TRAIN\n",
    "import pathlib\n",
    "from tqdm import tqdm"
   ]
  },
  {
   "cell_type": "code",
   "execution_count": null,
   "outputs": [
    {
     "name": "stderr",
     "output_type": "stream",
     "text": [
      "  3%|▎         | 54/1875 [00:41<23:10,  1.31it/s]"
     ]
    }
   ],
   "source": [
    "directory = TRAIN_WAV_DIR\n",
    "files = pathlib.Path(directory)\n",
    "files = list(files.glob('*.wav'))\n",
    "count_bad=0\n",
    "for num,wav in tqdm(enumerate(files),total=len(files)):\n",
    "    name=wav.stem.split('_')[0]\n",
    "    id_wav=int(wav.stem.split('_')[2])\n",
    "    num_id_wav=int(wav.stem.split('_')[3])\n",
    "    if name=='normal':\n",
    "        y=1\n",
    "    else:\n",
    "        y=0\n",
    "    bbc=Buono_Brutto_Cattivo()\n",
    "    _,bfeat=bbc.features_generator(wav)\n",
    "    for frame in bfeat:\n",
    "        if count_bad==0:\n",
    "            col=list(bfeat[frame].keys())+['y']+['ind']+['num']\n",
    "            data=np.zeros((len(files)*bbc.segment_number,len(col)))\n",
    "            X_b=pd.DataFrame(data)\n",
    "            X_b.columns=col\n",
    "        X_b.loc[count_bad,list(bfeat[frame].keys())]=list(bfeat[frame].values())\n",
    "        X_b.loc[count_bad,'y']=y\n",
    "        X_b.loc[count_bad,'ind']=id_wav\n",
    "        X_b.loc[count_bad,'num']=num_id_wav\n",
    "        count_bad+=1"
   ],
   "metadata": {
    "collapsed": false,
    "pycharm": {
     "name": "#%%\n",
     "is_executing": true
    }
   }
  },
  {
   "cell_type": "code",
   "execution_count": 3,
   "outputs": [],
   "source": [
    "X_b=X_b.loc[~(X_b==0).all(axis=1)]\n",
    "X_b.to_csv(DCASE_CSV_DIR_TRAIN+'Xtrain.csv')"
   ],
   "metadata": {
    "collapsed": false,
    "pycharm": {
     "name": "#%%\n"
    }
   }
  },
  {
   "cell_type": "code",
   "execution_count": 2,
   "outputs": [
    {
     "output_type": "stream",
     "name": "stderr",
     "text": "100%|██████████| 3675/3675 [41:48<00:00,  1.47it/s]\n"
    }
   ],
   "source": [
    "from config import TEST_WAV_DIR,DCASE_CSV_DIR_TEST\n",
    "directory = TEST_WAV_DIR\n",
    "files = pathlib.Path(directory)\n",
    "files = list(files.glob('*.wav'))\n",
    "count_good=0\n",
    "count_bad=0\n",
    "for num,wav in tqdm(enumerate(files),total=len(files)):\n",
    "    name=wav.stem.split('_')[0]\n",
    "    id_wav=int(wav.stem.split('_')[2])\n",
    "    num_id_wav=int(wav.stem.split('_')[3])\n",
    "    if name=='normal':\n",
    "        y=1\n",
    "    else:\n",
    "        y=0\n",
    "    bbc=Buono_Brutto_Cattivo()\n",
    "    _,bfeat=bbc.features_generator(wav)\n",
    "    for frame in bfeat:\n",
    "        if count_bad==0:\n",
    "            col=list(bfeat[frame].keys())+['y']+['ind']+['num']\n",
    "            data=np.zeros((len(files)*bbc.segment_number,len(col)))\n",
    "            X_b=pd.DataFrame(data)\n",
    "            X_b.columns=col\n",
    "        X_b.loc[count_bad,list(bfeat[frame].keys())]=list(bfeat[frame].values())\n",
    "        X_b.loc[count_bad,'y']=y\n",
    "        X_b.loc[count_bad,'ind']=id_wav\n",
    "        X_b.loc[count_bad,'num']=num_id_wav\n",
    "        count_bad+=1"
   ],
   "metadata": {
    "collapsed": false,
    "pycharm": {
     "name": "#%%\n"
    }
   }
  },
  {
   "cell_type": "code",
   "execution_count": 4,
   "outputs": [],
   "source": [
    "X_b=X_b.loc[~(X_b==0).all(axis=1)]\n",
    "X_b.to_csv('X_test.csv')"
   ],
   "metadata": {
    "collapsed": false,
    "pycharm": {
     "name": "#%%\n"
    }
   }
  },
  {
   "cell_type": "code",
   "execution_count": 5,
   "metadata": {},
   "outputs": [
    {
     "output_type": "execute_result",
     "data": {
      "text/plain": "        mean_sig   std_sig   max_sig   min_sig  skew_sig  kurtosis_sig  \\\n0      -0.001536  0.190359  0.586909 -0.525303 -0.047717     -0.261269   \n1       0.004575  0.202771  0.674917 -0.656216 -0.242523      0.138140   \n2       0.000909  0.186378  0.525303 -0.541254 -0.017617     -0.328017   \n3      -0.004565  0.194165  0.582508 -0.639714 -0.089491      0.086976   \n4       0.002598  0.224145  0.770077 -0.769527 -0.034959     -0.072335   \n...          ...       ...       ...       ...       ...           ...   \n363820  0.004598  0.251352  0.793460 -0.667814  0.099799     -0.246950   \n363821  0.001737  0.230577  0.732071 -0.666667  0.080218     -0.162835   \n363822 -0.001016  0.206932  0.611015 -0.541595  0.044916     -0.195559   \n363823 -0.005599  0.197990  0.573150 -0.612163 -0.045358     -0.210722   \n363824  0.012383  0.210678  0.694205 -0.718876 -0.086597     -0.165719   \n\n              mean        std         max        min      skew  kurtosis  \\\n0       219.998703  55.862926  429.440979  70.825111  0.051904  0.789913   \n1       218.493210  55.428898  427.110535  56.467548  0.278100  1.126898   \n2       215.893570  53.205425  425.438690  68.999092  0.106679  0.847886   \n3       216.617233  53.696064  427.965149  65.060959  0.061846  0.772063   \n4       217.644852  55.697174  426.797699  59.425156  0.122105  0.978640   \n...            ...        ...         ...        ...       ...       ...   \n363820  240.668640  79.829552  429.363586  60.301674  0.055515 -0.615204   \n363821  241.892685  79.947762  429.086578  58.839931  0.000870 -0.621621   \n363822  241.899704  80.881271  429.444458  64.589531  0.005358 -0.665073   \n363823  242.425781  78.391327  429.119934  62.930267  0.070108 -0.623670   \n363824  243.272629  77.604416  428.455536  64.929482  0.048618 -0.591107   \n\n         entropy       fsd       fsf       fss    fsflat    y  ind    num  \n0       7.350475  0.008639  4.708440  0.678946  0.967746  1.0  0.0    0.0  \n1       7.351100  0.009159  5.414819  0.680757  0.974483  1.0  0.0    0.0  \n2       7.352636  0.010441  4.536380  0.879031  0.972712  1.0  0.0    0.0  \n3       7.352137  0.007336  4.390009  0.775871  0.972706  1.0  0.0    0.0  \n4       7.350031  0.008588  5.064469  0.785413  0.968105  1.0  0.0    0.0  \n...          ...       ...       ...       ...       ...  ...  ...    ...  \n363820  7.326581  0.009551  4.777300  1.630949  0.950598  1.0  6.0  914.0  \n363821  7.326585  0.007013  4.295586  1.638106  0.947998  1.0  6.0  914.0  \n363822  7.325299  0.008293  4.245716  1.629965  0.942804  1.0  6.0  914.0  \n363823  7.329684  0.009387  4.461130  1.606587  0.951415  1.0  6.0  914.0  \n363824  7.331022  0.009239  4.526270  1.500121  0.946483  1.0  6.0  914.0  \n\n[363825 rows x 20 columns]",
      "text/html": "<div>\n<style scoped>\n    .dataframe tbody tr th:only-of-type {\n        vertical-align: middle;\n    }\n\n    .dataframe tbody tr th {\n        vertical-align: top;\n    }\n\n    .dataframe thead th {\n        text-align: right;\n    }\n</style>\n<table border=\"1\" class=\"dataframe\">\n  <thead>\n    <tr style=\"text-align: right;\">\n      <th></th>\n      <th>mean_sig</th>\n      <th>std_sig</th>\n      <th>max_sig</th>\n      <th>min_sig</th>\n      <th>skew_sig</th>\n      <th>kurtosis_sig</th>\n      <th>mean</th>\n      <th>std</th>\n      <th>max</th>\n      <th>min</th>\n      <th>skew</th>\n      <th>kurtosis</th>\n      <th>entropy</th>\n      <th>fsd</th>\n      <th>fsf</th>\n      <th>fss</th>\n      <th>fsflat</th>\n      <th>y</th>\n      <th>ind</th>\n      <th>num</th>\n    </tr>\n  </thead>\n  <tbody>\n    <tr>\n      <th>0</th>\n      <td>-0.001536</td>\n      <td>0.190359</td>\n      <td>0.586909</td>\n      <td>-0.525303</td>\n      <td>-0.047717</td>\n      <td>-0.261269</td>\n      <td>219.998703</td>\n      <td>55.862926</td>\n      <td>429.440979</td>\n      <td>70.825111</td>\n      <td>0.051904</td>\n      <td>0.789913</td>\n      <td>7.350475</td>\n      <td>0.008639</td>\n      <td>4.708440</td>\n      <td>0.678946</td>\n      <td>0.967746</td>\n      <td>1.0</td>\n      <td>0.0</td>\n      <td>0.0</td>\n    </tr>\n    <tr>\n      <th>1</th>\n      <td>0.004575</td>\n      <td>0.202771</td>\n      <td>0.674917</td>\n      <td>-0.656216</td>\n      <td>-0.242523</td>\n      <td>0.138140</td>\n      <td>218.493210</td>\n      <td>55.428898</td>\n      <td>427.110535</td>\n      <td>56.467548</td>\n      <td>0.278100</td>\n      <td>1.126898</td>\n      <td>7.351100</td>\n      <td>0.009159</td>\n      <td>5.414819</td>\n      <td>0.680757</td>\n      <td>0.974483</td>\n      <td>1.0</td>\n      <td>0.0</td>\n      <td>0.0</td>\n    </tr>\n    <tr>\n      <th>2</th>\n      <td>0.000909</td>\n      <td>0.186378</td>\n      <td>0.525303</td>\n      <td>-0.541254</td>\n      <td>-0.017617</td>\n      <td>-0.328017</td>\n      <td>215.893570</td>\n      <td>53.205425</td>\n      <td>425.438690</td>\n      <td>68.999092</td>\n      <td>0.106679</td>\n      <td>0.847886</td>\n      <td>7.352636</td>\n      <td>0.010441</td>\n      <td>4.536380</td>\n      <td>0.879031</td>\n      <td>0.972712</td>\n      <td>1.0</td>\n      <td>0.0</td>\n      <td>0.0</td>\n    </tr>\n    <tr>\n      <th>3</th>\n      <td>-0.004565</td>\n      <td>0.194165</td>\n      <td>0.582508</td>\n      <td>-0.639714</td>\n      <td>-0.089491</td>\n      <td>0.086976</td>\n      <td>216.617233</td>\n      <td>53.696064</td>\n      <td>427.965149</td>\n      <td>65.060959</td>\n      <td>0.061846</td>\n      <td>0.772063</td>\n      <td>7.352137</td>\n      <td>0.007336</td>\n      <td>4.390009</td>\n      <td>0.775871</td>\n      <td>0.972706</td>\n      <td>1.0</td>\n      <td>0.0</td>\n      <td>0.0</td>\n    </tr>\n    <tr>\n      <th>4</th>\n      <td>0.002598</td>\n      <td>0.224145</td>\n      <td>0.770077</td>\n      <td>-0.769527</td>\n      <td>-0.034959</td>\n      <td>-0.072335</td>\n      <td>217.644852</td>\n      <td>55.697174</td>\n      <td>426.797699</td>\n      <td>59.425156</td>\n      <td>0.122105</td>\n      <td>0.978640</td>\n      <td>7.350031</td>\n      <td>0.008588</td>\n      <td>5.064469</td>\n      <td>0.785413</td>\n      <td>0.968105</td>\n      <td>1.0</td>\n      <td>0.0</td>\n      <td>0.0</td>\n    </tr>\n    <tr>\n      <th>...</th>\n      <td>...</td>\n      <td>...</td>\n      <td>...</td>\n      <td>...</td>\n      <td>...</td>\n      <td>...</td>\n      <td>...</td>\n      <td>...</td>\n      <td>...</td>\n      <td>...</td>\n      <td>...</td>\n      <td>...</td>\n      <td>...</td>\n      <td>...</td>\n      <td>...</td>\n      <td>...</td>\n      <td>...</td>\n      <td>...</td>\n      <td>...</td>\n      <td>...</td>\n    </tr>\n    <tr>\n      <th>363820</th>\n      <td>0.004598</td>\n      <td>0.251352</td>\n      <td>0.793460</td>\n      <td>-0.667814</td>\n      <td>0.099799</td>\n      <td>-0.246950</td>\n      <td>240.668640</td>\n      <td>79.829552</td>\n      <td>429.363586</td>\n      <td>60.301674</td>\n      <td>0.055515</td>\n      <td>-0.615204</td>\n      <td>7.326581</td>\n      <td>0.009551</td>\n      <td>4.777300</td>\n      <td>1.630949</td>\n      <td>0.950598</td>\n      <td>1.0</td>\n      <td>6.0</td>\n      <td>914.0</td>\n    </tr>\n    <tr>\n      <th>363821</th>\n      <td>0.001737</td>\n      <td>0.230577</td>\n      <td>0.732071</td>\n      <td>-0.666667</td>\n      <td>0.080218</td>\n      <td>-0.162835</td>\n      <td>241.892685</td>\n      <td>79.947762</td>\n      <td>429.086578</td>\n      <td>58.839931</td>\n      <td>0.000870</td>\n      <td>-0.621621</td>\n      <td>7.326585</td>\n      <td>0.007013</td>\n      <td>4.295586</td>\n      <td>1.638106</td>\n      <td>0.947998</td>\n      <td>1.0</td>\n      <td>6.0</td>\n      <td>914.0</td>\n    </tr>\n    <tr>\n      <th>363822</th>\n      <td>-0.001016</td>\n      <td>0.206932</td>\n      <td>0.611015</td>\n      <td>-0.541595</td>\n      <td>0.044916</td>\n      <td>-0.195559</td>\n      <td>241.899704</td>\n      <td>80.881271</td>\n      <td>429.444458</td>\n      <td>64.589531</td>\n      <td>0.005358</td>\n      <td>-0.665073</td>\n      <td>7.325299</td>\n      <td>0.008293</td>\n      <td>4.245716</td>\n      <td>1.629965</td>\n      <td>0.942804</td>\n      <td>1.0</td>\n      <td>6.0</td>\n      <td>914.0</td>\n    </tr>\n    <tr>\n      <th>363823</th>\n      <td>-0.005599</td>\n      <td>0.197990</td>\n      <td>0.573150</td>\n      <td>-0.612163</td>\n      <td>-0.045358</td>\n      <td>-0.210722</td>\n      <td>242.425781</td>\n      <td>78.391327</td>\n      <td>429.119934</td>\n      <td>62.930267</td>\n      <td>0.070108</td>\n      <td>-0.623670</td>\n      <td>7.329684</td>\n      <td>0.009387</td>\n      <td>4.461130</td>\n      <td>1.606587</td>\n      <td>0.951415</td>\n      <td>1.0</td>\n      <td>6.0</td>\n      <td>914.0</td>\n    </tr>\n    <tr>\n      <th>363824</th>\n      <td>0.012383</td>\n      <td>0.210678</td>\n      <td>0.694205</td>\n      <td>-0.718876</td>\n      <td>-0.086597</td>\n      <td>-0.165719</td>\n      <td>243.272629</td>\n      <td>77.604416</td>\n      <td>428.455536</td>\n      <td>64.929482</td>\n      <td>0.048618</td>\n      <td>-0.591107</td>\n      <td>7.331022</td>\n      <td>0.009239</td>\n      <td>4.526270</td>\n      <td>1.500121</td>\n      <td>0.946483</td>\n      <td>1.0</td>\n      <td>6.0</td>\n      <td>914.0</td>\n    </tr>\n  </tbody>\n</table>\n<p>363825 rows × 20 columns</p>\n</div>"
     },
     "metadata": {},
     "execution_count": 5
    }
   ],
   "source": [
    "X_b"
   ]
  },
  {
   "cell_type": "code",
   "execution_count": null,
   "metadata": {},
   "outputs": [],
   "source": []
  }
 ],
 "metadata": {
  "kernelspec": {
   "display_name": "Python 3",
   "language": "python",
   "name": "python3"
  },
  "language_info": {
   "codemirror_mode": {
    "name": "ipython",
    "version": 2
   },
   "file_extension": ".py",
   "mimetype": "text/x-python",
   "name": "python",
   "nbconvert_exporter": "python",
   "pygments_lexer": "ipython2",
   "version": "3.7.6-final"
  }
 },
 "nbformat": 4,
 "nbformat_minor": 0
}