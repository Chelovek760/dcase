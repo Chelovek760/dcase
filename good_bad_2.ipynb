{
 "cells": [
  {
   "cell_type": "code",
   "execution_count": 3,
   "metadata": {
    "collapsed": true
   },
   "outputs": [],
   "source": [
    "import matplotlib.pyplot as plt\n",
    "import numpy as np\n",
    "import pandas as pd\n",
    "from saparator import Buono_Brutto_Cattivo\n",
    "from config import TRAIN_WAV_DIR,DCASE_CSV_DIR_TRAIN\n",
    "import pathlib\n",
    "from tqdm import tqdm"
   ]
  },
  {
   "cell_type": "code",
   "execution_count": 4,
   "outputs": [
    {
     "output_type": "stream",
     "name": "stderr",
     "text": "100%|██████████| 3675/3675 [1:31:08<00:00,  1.49s/it]\n"
    }
   ],
   "source": [
    "directory = r'C:\\Users\\markh\\Work\\my_dcase\\testing\\dev_data\\fan\\train'\n",
    "files = pathlib.Path(directory)\n",
    "files = list(files.glob('*.wav'))\n",
    "count_good=0\n",
    "count_bad=0\n",
    "for num,wav in tqdm(enumerate(files),total=len(files)):\n",
    "    name=wav.stem.split('_')[0]\n",
    "    id_wav=int(wav.stem.split('_')[2])\n",
    "    num_id_wav=int(wav.stem.split('_')[3])\n",
    "    if name=='normal':\n",
    "        y=1\n",
    "    else:\n",
    "        y=0\n",
    "    bbc=Buono_Brutto_Cattivo(wav)\n",
    "    _,gf,_,bf=bbc.features_generator()\n",
    "    for frame in gf:\n",
    "        if count_good==0:\n",
    "            col=list(gf[frame].keys())+['y']+['ind']+['num']\n",
    "            data=np.zeros((len(files)*bbc.segment_number,len(col)))\n",
    "            X_g=pd.DataFrame(data)\n",
    "            X_g.columns=col\n",
    "        X_g.loc[count_good,list(gf[frame].keys())]=list(gf[frame].values())\n",
    "        X_g.loc[count_good,'y']=y\n",
    "        X_g.loc[count_good,'ind']=id_wav\n",
    "        X_g.loc[count_good,'num']=num_id_wav\n",
    "        count_good+=1\n",
    "    for frame in bf:\n",
    "        if count_bad==0:\n",
    "            col=list(bf[frame].keys())+['y']+['ind']+['num']\n",
    "            data=np.zeros((len(files)*bbc.segment_number,len(col)))\n",
    "            X_b=pd.DataFrame(data)\n",
    "            X_b.columns=col\n",
    "        X_b.loc[count_bad,list(bf[frame].keys())]=list(bf[frame].values())\n",
    "        X_b.loc[count_bad,'y']=y\n",
    "        X_b.loc[count_bad,'ind']=id_wav\n",
    "        X_b.loc[count_bad,'num']=num_id_wav\n",
    "        count_bad+=1"
   ],
   "metadata": {
    "collapsed": false,
    "pycharm": {
     "name": "#%%\n"
    }
   }
  },
  {
   "cell_type": "code",
   "execution_count": null,
   "metadata": {},
   "outputs": [],
   "source": []
  },
  {
   "cell_type": "code",
   "execution_count": 5,
   "metadata": {},
   "outputs": [
    {
     "output_type": "execute_result",
     "data": {
      "text/plain": "0.0    353425\n4.0      3794\n6.0      3546\n2.0      3060\nName: ind, dtype: int64"
     },
     "metadata": {},
     "execution_count": 5
    }
   ],
   "source": [
    "X_b.ind.value_counts()"
   ]
  },
  {
   "cell_type": "code",
   "execution_count": 6,
   "metadata": {},
   "outputs": [],
   "source": [
    "X_g=X_g.loc[~(X_g==0).all(axis=1)]\n",
    "X_g.to_csv('csv\\Xg_train.csv')\n",
    "X_b=X_b.loc[~(X_b==0).all(axis=1)]\n",
    "X_b.to_csv('csv\\Xb_train.csv')"
   ]
  },
  {
   "cell_type": "code",
   "execution_count": 3,
   "metadata": {},
   "outputs": [
    {
     "output_type": "error",
     "ename": "NameError",
     "evalue": "name 'X_b' is not defined",
     "traceback": [
      "\u001b[1;31m---------------------------------------------------------------------------\u001b[0m",
      "\u001b[1;31mNameError\u001b[0m                                 Traceback (most recent call last)",
      "\u001b[1;32m<ipython-input-3-cf63c8cf1feb>\u001b[0m in \u001b[0;36m<module>\u001b[1;34m\u001b[0m\n\u001b[1;32m----> 1\u001b[1;33m \u001b[0mX_b\u001b[0m\u001b[1;33m\u001b[0m\u001b[1;33m\u001b[0m\u001b[0m\n\u001b[0m",
      "\u001b[1;31mNameError\u001b[0m: name 'X_b' is not defined"
     ]
    }
   ],
   "source": [
    "X_b"
   ]
  },
  {
   "cell_type": "code",
   "execution_count": 15,
   "outputs": [],
   "source": [
    "X_g=X_g.loc[~(X_g==0).all(axis=1)]\n",
    "X_g.to_csv('csv\\Xg_train.csv')\n",
    "X_b=X_b.loc[~(X_b==0).all(axis=1)]\n",
    "X_b.to_csv('csv\\Xb_train.csv')"
   ],
   "metadata": {
    "collapsed": false,
    "pycharm": {
     "name": "#%%\n"
    }
   }
  },
  {
   "cell_type": "code",
   "execution_count": 16,
   "metadata": {},
   "outputs": [
    {
     "output_type": "execute_result",
     "data": {
      "text/plain": "          mean        std         max        min      skew  kurtosis  \\\n0   260.236267  76.588921  427.410492  69.551750 -0.329099 -0.491897   \n1   261.681610  73.877167  428.693542  69.241531 -0.305753 -0.488987   \n2   254.483780  74.540718  429.452118  65.698021 -0.267721 -0.493352   \n3   257.663147  75.885963  429.401459  69.956978 -0.196645 -0.598176   \n4   258.684418  74.279045  429.318848  64.747360 -0.236110 -0.448349   \n5   259.535339  75.804482  429.451721  72.764198 -0.240000 -0.452932   \n6   260.145996  76.966431  429.240753  72.963982 -0.276415 -0.506443   \n7   260.364258  74.111824  429.411163  67.786743 -0.295633 -0.415960   \n8   262.058044  75.852478  428.017090  61.470730 -0.308989 -0.372258   \n9   258.649658  76.221588  428.190186  68.624580 -0.303364 -0.466378   \n10  263.794617  75.306396  428.913849  73.006447 -0.362771 -0.318033   \n11  266.254456  75.801186  429.229523  75.378769 -0.320843 -0.436023   \n12  266.941376  76.549500  429.391479  75.266151 -0.322813 -0.436302   \n13  264.121399  76.097664  428.668915  67.093201 -0.312976 -0.501045   \n14  264.789948  76.797066  429.447052  72.554176 -0.307612 -0.547482   \n15  262.416382  74.459045  428.859650  67.494408 -0.289813 -0.503111   \n16  258.367004  76.331291  428.172485  61.357193 -0.269765 -0.421445   \n17  262.253754  76.285446  429.248260  75.040253 -0.271746 -0.382357   \n18  263.977051  76.395973  429.109802  76.342644 -0.342400 -0.416737   \n19  266.841949  77.926888  428.863861  68.853584 -0.333153 -0.473106   \n20  267.742035  78.924057  429.123871  60.077187 -0.260020 -0.480490   \n21  265.397278  78.420479  429.371735  61.849445 -0.325829 -0.495124   \n22  266.887848  77.901756  429.165527  70.448524 -0.252819 -0.522305   \n23  264.761139  75.421288  429.405487  71.165596 -0.274411 -0.501291   \n24  265.745697  75.728958  429.191040  78.137489 -0.306803 -0.457842   \n25  262.950531  75.952957  429.247955  76.305687 -0.254103 -0.488241   \n26  265.304779  76.918640  427.883026  67.931236 -0.145125 -0.576378   \n27  264.465485  75.766212  429.257751  64.448708 -0.247660 -0.479148   \n28  264.112244  74.125839  427.946930  69.634697 -0.240940 -0.550824   \n29  266.317078  78.112625  429.407440  70.821808 -0.310658 -0.565482   \n30  265.968384  76.798508  428.666229  72.655617 -0.256625 -0.517878   \n31  260.633698  77.082474  429.400513  73.604996 -0.270387 -0.461849   \n32  252.926437  74.617134  428.042023  60.034966 -0.246098 -0.285479   \n33  260.801971  75.984428  429.453308  62.661476 -0.267276 -0.403928   \n34  263.676178  76.418266  428.838013  71.243927 -0.271153 -0.418546   \n35  264.427094  77.630318  429.071564  64.128235 -0.331851 -0.409968   \n36  263.889709  77.475731  428.953125  73.565742 -0.339742 -0.514766   \n37  263.061310  77.707405  428.944427  55.706573 -0.304892 -0.534207   \n38  266.201263  76.443214  428.907684  78.037781 -0.264317 -0.493111   \n39  266.670563  77.877907  429.419067  62.633194 -0.295874 -0.444934   \n40  265.402222  76.728661  429.451813  75.321281 -0.343685 -0.473510   \n\n     entropy       fsd       fsf       fss    fsflat    y  ind    num  \n0   7.337251  0.011376  4.387334  1.468488  0.955464  1.0  6.0  905.0  \n1   7.341312  0.010157  4.383241  1.503527  0.957109  1.0  6.0  905.0  \n2   7.338028  0.012252  4.493539  1.446177  0.954034  1.0  6.0  905.0  \n3   7.337954  0.011105  4.821724  1.497986  0.957288  1.0  6.0  905.0  \n4   7.340037  0.012562  4.550418  1.424880  0.955502  1.0  6.0  905.0  \n5   7.338391  0.011951  4.486973  1.457860  0.955309  1.0  6.0  905.0  \n6   7.337011  0.012760  4.387260  1.503899  0.955477  1.0  6.0  905.0  \n7   7.340544  0.011761  4.283528  1.429194  0.958839  1.0  6.0  905.0  \n8   7.338841  0.013272  4.280096  1.430405  0.954497  1.0  6.0  905.0  \n9   7.337235  0.012058  4.521582  1.497423  0.956321  1.0  6.0  905.0  \n10  7.339878  0.011061  4.589859  1.451762  0.958436  1.0  6.0  905.0  \n11  7.340423  0.010545  4.659933  1.463306  0.957129  1.0  6.0  905.0  \n12  7.339724  0.012938  4.477276  1.505602  0.958397  1.0  6.0  905.0  \n13  7.339386  0.013369  4.274413  1.529342  0.955463  1.0  6.0  905.0  \n14  7.338830  0.009816  4.332005  1.511921  0.956910  1.0  6.0  905.0  \n15  7.340930  0.012332  4.265988  1.455998  0.956566  1.0  6.0  905.0  \n16  7.337114  0.011297  4.271136  1.528091  0.957675  1.0  6.0  905.0  \n17  7.338605  0.010772  4.552182  1.468812  0.956638  1.0  6.0  905.0  \n18  7.338781  0.012408  4.336659  1.587639  0.955334  1.0  6.0  905.0  \n19  7.337955  0.012515  4.928519  1.523088  0.959636  1.0  6.0  905.0  \n20  7.337360  0.012198  4.494887  1.657160  0.953414  1.0  6.0  905.0  \n21  7.336833  0.012086  4.340454  1.522996  0.954663  1.0  6.0  905.0  \n22  7.338440  0.009865  4.529446  1.506538  0.956294  1.0  6.0  905.0  \n23  7.340629  0.008320  4.805401  1.506268  0.959678  1.0  6.0  905.0  \n24  7.340423  0.007949  4.536758  1.458325  0.960060  1.0  6.0  905.0  \n25  7.339435  0.009626  4.461632  1.487526  0.958357  1.0  6.0  905.0  \n26  7.339627  0.011941  4.584301  1.477629  0.956270  1.0  6.0  905.0  \n27  7.340192  0.012306  4.479379  1.511395  0.958345  1.0  6.0  905.0  \n28  7.342132  0.012082  4.480668  1.422559  0.959262  1.0  6.0  905.0  \n29  7.337721  0.010738  4.527917  1.534255  0.955630  1.0  6.0  905.0  \n30  7.339447  0.010150  4.474374  1.491506  0.954555  1.0  6.0  905.0  \n31  7.337010  0.011422  4.314861  1.547104  0.956882  1.0  6.0  905.0  \n32  7.337217  0.011335  3.999092  1.464537  0.953665  1.0  6.0  905.0  \n33  7.338429  0.012124  4.613441  1.459497  0.954938  1.0  6.0  905.0  \n34  7.338952  0.011757  4.556004  1.546820  0.958030  1.0  6.0  905.0  \n35  7.337381  0.009888  4.348506  1.506173  0.955049  1.0  6.0  905.0  \n36  7.337457  0.011171  4.408800  1.568292  0.954038  1.0  6.0  905.0  \n37  7.337033  0.013201  4.503954  1.480865  0.953223  1.0  6.0  905.0  \n38  7.339909  0.012133  4.659172  1.429095  0.953728  1.0  6.0  905.0  \n39  7.338099  0.011067  4.734904  1.612803  0.956193  1.0  6.0  905.0  \n40  7.338890  0.010971  4.699283  1.463090  0.954507  1.0  6.0  905.0  ",
      "text/html": "<div>\n<style scoped>\n    .dataframe tbody tr th:only-of-type {\n        vertical-align: middle;\n    }\n\n    .dataframe tbody tr th {\n        vertical-align: top;\n    }\n\n    .dataframe thead th {\n        text-align: right;\n    }\n</style>\n<table border=\"1\" class=\"dataframe\">\n  <thead>\n    <tr style=\"text-align: right;\">\n      <th></th>\n      <th>mean</th>\n      <th>std</th>\n      <th>max</th>\n      <th>min</th>\n      <th>skew</th>\n      <th>kurtosis</th>\n      <th>entropy</th>\n      <th>fsd</th>\n      <th>fsf</th>\n      <th>fss</th>\n      <th>fsflat</th>\n      <th>y</th>\n      <th>ind</th>\n      <th>num</th>\n    </tr>\n  </thead>\n  <tbody>\n    <tr>\n      <th>0</th>\n      <td>260.236267</td>\n      <td>76.588921</td>\n      <td>427.410492</td>\n      <td>69.551750</td>\n      <td>-0.329099</td>\n      <td>-0.491897</td>\n      <td>7.337251</td>\n      <td>0.011376</td>\n      <td>4.387334</td>\n      <td>1.468488</td>\n      <td>0.955464</td>\n      <td>1.0</td>\n      <td>6.0</td>\n      <td>905.0</td>\n    </tr>\n    <tr>\n      <th>1</th>\n      <td>261.681610</td>\n      <td>73.877167</td>\n      <td>428.693542</td>\n      <td>69.241531</td>\n      <td>-0.305753</td>\n      <td>-0.488987</td>\n      <td>7.341312</td>\n      <td>0.010157</td>\n      <td>4.383241</td>\n      <td>1.503527</td>\n      <td>0.957109</td>\n      <td>1.0</td>\n      <td>6.0</td>\n      <td>905.0</td>\n    </tr>\n    <tr>\n      <th>2</th>\n      <td>254.483780</td>\n      <td>74.540718</td>\n      <td>429.452118</td>\n      <td>65.698021</td>\n      <td>-0.267721</td>\n      <td>-0.493352</td>\n      <td>7.338028</td>\n      <td>0.012252</td>\n      <td>4.493539</td>\n      <td>1.446177</td>\n      <td>0.954034</td>\n      <td>1.0</td>\n      <td>6.0</td>\n      <td>905.0</td>\n    </tr>\n    <tr>\n      <th>3</th>\n      <td>257.663147</td>\n      <td>75.885963</td>\n      <td>429.401459</td>\n      <td>69.956978</td>\n      <td>-0.196645</td>\n      <td>-0.598176</td>\n      <td>7.337954</td>\n      <td>0.011105</td>\n      <td>4.821724</td>\n      <td>1.497986</td>\n      <td>0.957288</td>\n      <td>1.0</td>\n      <td>6.0</td>\n      <td>905.0</td>\n    </tr>\n    <tr>\n      <th>4</th>\n      <td>258.684418</td>\n      <td>74.279045</td>\n      <td>429.318848</td>\n      <td>64.747360</td>\n      <td>-0.236110</td>\n      <td>-0.448349</td>\n      <td>7.340037</td>\n      <td>0.012562</td>\n      <td>4.550418</td>\n      <td>1.424880</td>\n      <td>0.955502</td>\n      <td>1.0</td>\n      <td>6.0</td>\n      <td>905.0</td>\n    </tr>\n    <tr>\n      <th>5</th>\n      <td>259.535339</td>\n      <td>75.804482</td>\n      <td>429.451721</td>\n      <td>72.764198</td>\n      <td>-0.240000</td>\n      <td>-0.452932</td>\n      <td>7.338391</td>\n      <td>0.011951</td>\n      <td>4.486973</td>\n      <td>1.457860</td>\n      <td>0.955309</td>\n      <td>1.0</td>\n      <td>6.0</td>\n      <td>905.0</td>\n    </tr>\n    <tr>\n      <th>6</th>\n      <td>260.145996</td>\n      <td>76.966431</td>\n      <td>429.240753</td>\n      <td>72.963982</td>\n      <td>-0.276415</td>\n      <td>-0.506443</td>\n      <td>7.337011</td>\n      <td>0.012760</td>\n      <td>4.387260</td>\n      <td>1.503899</td>\n      <td>0.955477</td>\n      <td>1.0</td>\n      <td>6.0</td>\n      <td>905.0</td>\n    </tr>\n    <tr>\n      <th>7</th>\n      <td>260.364258</td>\n      <td>74.111824</td>\n      <td>429.411163</td>\n      <td>67.786743</td>\n      <td>-0.295633</td>\n      <td>-0.415960</td>\n      <td>7.340544</td>\n      <td>0.011761</td>\n      <td>4.283528</td>\n      <td>1.429194</td>\n      <td>0.958839</td>\n      <td>1.0</td>\n      <td>6.0</td>\n      <td>905.0</td>\n    </tr>\n    <tr>\n      <th>8</th>\n      <td>262.058044</td>\n      <td>75.852478</td>\n      <td>428.017090</td>\n      <td>61.470730</td>\n      <td>-0.308989</td>\n      <td>-0.372258</td>\n      <td>7.338841</td>\n      <td>0.013272</td>\n      <td>4.280096</td>\n      <td>1.430405</td>\n      <td>0.954497</td>\n      <td>1.0</td>\n      <td>6.0</td>\n      <td>905.0</td>\n    </tr>\n    <tr>\n      <th>9</th>\n      <td>258.649658</td>\n      <td>76.221588</td>\n      <td>428.190186</td>\n      <td>68.624580</td>\n      <td>-0.303364</td>\n      <td>-0.466378</td>\n      <td>7.337235</td>\n      <td>0.012058</td>\n      <td>4.521582</td>\n      <td>1.497423</td>\n      <td>0.956321</td>\n      <td>1.0</td>\n      <td>6.0</td>\n      <td>905.0</td>\n    </tr>\n    <tr>\n      <th>10</th>\n      <td>263.794617</td>\n      <td>75.306396</td>\n      <td>428.913849</td>\n      <td>73.006447</td>\n      <td>-0.362771</td>\n      <td>-0.318033</td>\n      <td>7.339878</td>\n      <td>0.011061</td>\n      <td>4.589859</td>\n      <td>1.451762</td>\n      <td>0.958436</td>\n      <td>1.0</td>\n      <td>6.0</td>\n      <td>905.0</td>\n    </tr>\n    <tr>\n      <th>11</th>\n      <td>266.254456</td>\n      <td>75.801186</td>\n      <td>429.229523</td>\n      <td>75.378769</td>\n      <td>-0.320843</td>\n      <td>-0.436023</td>\n      <td>7.340423</td>\n      <td>0.010545</td>\n      <td>4.659933</td>\n      <td>1.463306</td>\n      <td>0.957129</td>\n      <td>1.0</td>\n      <td>6.0</td>\n      <td>905.0</td>\n    </tr>\n    <tr>\n      <th>12</th>\n      <td>266.941376</td>\n      <td>76.549500</td>\n      <td>429.391479</td>\n      <td>75.266151</td>\n      <td>-0.322813</td>\n      <td>-0.436302</td>\n      <td>7.339724</td>\n      <td>0.012938</td>\n      <td>4.477276</td>\n      <td>1.505602</td>\n      <td>0.958397</td>\n      <td>1.0</td>\n      <td>6.0</td>\n      <td>905.0</td>\n    </tr>\n    <tr>\n      <th>13</th>\n      <td>264.121399</td>\n      <td>76.097664</td>\n      <td>428.668915</td>\n      <td>67.093201</td>\n      <td>-0.312976</td>\n      <td>-0.501045</td>\n      <td>7.339386</td>\n      <td>0.013369</td>\n      <td>4.274413</td>\n      <td>1.529342</td>\n      <td>0.955463</td>\n      <td>1.0</td>\n      <td>6.0</td>\n      <td>905.0</td>\n    </tr>\n    <tr>\n      <th>14</th>\n      <td>264.789948</td>\n      <td>76.797066</td>\n      <td>429.447052</td>\n      <td>72.554176</td>\n      <td>-0.307612</td>\n      <td>-0.547482</td>\n      <td>7.338830</td>\n      <td>0.009816</td>\n      <td>4.332005</td>\n      <td>1.511921</td>\n      <td>0.956910</td>\n      <td>1.0</td>\n      <td>6.0</td>\n      <td>905.0</td>\n    </tr>\n    <tr>\n      <th>15</th>\n      <td>262.416382</td>\n      <td>74.459045</td>\n      <td>428.859650</td>\n      <td>67.494408</td>\n      <td>-0.289813</td>\n      <td>-0.503111</td>\n      <td>7.340930</td>\n      <td>0.012332</td>\n      <td>4.265988</td>\n      <td>1.455998</td>\n      <td>0.956566</td>\n      <td>1.0</td>\n      <td>6.0</td>\n      <td>905.0</td>\n    </tr>\n    <tr>\n      <th>16</th>\n      <td>258.367004</td>\n      <td>76.331291</td>\n      <td>428.172485</td>\n      <td>61.357193</td>\n      <td>-0.269765</td>\n      <td>-0.421445</td>\n      <td>7.337114</td>\n      <td>0.011297</td>\n      <td>4.271136</td>\n      <td>1.528091</td>\n      <td>0.957675</td>\n      <td>1.0</td>\n      <td>6.0</td>\n      <td>905.0</td>\n    </tr>\n    <tr>\n      <th>17</th>\n      <td>262.253754</td>\n      <td>76.285446</td>\n      <td>429.248260</td>\n      <td>75.040253</td>\n      <td>-0.271746</td>\n      <td>-0.382357</td>\n      <td>7.338605</td>\n      <td>0.010772</td>\n      <td>4.552182</td>\n      <td>1.468812</td>\n      <td>0.956638</td>\n      <td>1.0</td>\n      <td>6.0</td>\n      <td>905.0</td>\n    </tr>\n    <tr>\n      <th>18</th>\n      <td>263.977051</td>\n      <td>76.395973</td>\n      <td>429.109802</td>\n      <td>76.342644</td>\n      <td>-0.342400</td>\n      <td>-0.416737</td>\n      <td>7.338781</td>\n      <td>0.012408</td>\n      <td>4.336659</td>\n      <td>1.587639</td>\n      <td>0.955334</td>\n      <td>1.0</td>\n      <td>6.0</td>\n      <td>905.0</td>\n    </tr>\n    <tr>\n      <th>19</th>\n      <td>266.841949</td>\n      <td>77.926888</td>\n      <td>428.863861</td>\n      <td>68.853584</td>\n      <td>-0.333153</td>\n      <td>-0.473106</td>\n      <td>7.337955</td>\n      <td>0.012515</td>\n      <td>4.928519</td>\n      <td>1.523088</td>\n      <td>0.959636</td>\n      <td>1.0</td>\n      <td>6.0</td>\n      <td>905.0</td>\n    </tr>\n    <tr>\n      <th>20</th>\n      <td>267.742035</td>\n      <td>78.924057</td>\n      <td>429.123871</td>\n      <td>60.077187</td>\n      <td>-0.260020</td>\n      <td>-0.480490</td>\n      <td>7.337360</td>\n      <td>0.012198</td>\n      <td>4.494887</td>\n      <td>1.657160</td>\n      <td>0.953414</td>\n      <td>1.0</td>\n      <td>6.0</td>\n      <td>905.0</td>\n    </tr>\n    <tr>\n      <th>21</th>\n      <td>265.397278</td>\n      <td>78.420479</td>\n      <td>429.371735</td>\n      <td>61.849445</td>\n      <td>-0.325829</td>\n      <td>-0.495124</td>\n      <td>7.336833</td>\n      <td>0.012086</td>\n      <td>4.340454</td>\n      <td>1.522996</td>\n      <td>0.954663</td>\n      <td>1.0</td>\n      <td>6.0</td>\n      <td>905.0</td>\n    </tr>\n    <tr>\n      <th>22</th>\n      <td>266.887848</td>\n      <td>77.901756</td>\n      <td>429.165527</td>\n      <td>70.448524</td>\n      <td>-0.252819</td>\n      <td>-0.522305</td>\n      <td>7.338440</td>\n      <td>0.009865</td>\n      <td>4.529446</td>\n      <td>1.506538</td>\n      <td>0.956294</td>\n      <td>1.0</td>\n      <td>6.0</td>\n      <td>905.0</td>\n    </tr>\n    <tr>\n      <th>23</th>\n      <td>264.761139</td>\n      <td>75.421288</td>\n      <td>429.405487</td>\n      <td>71.165596</td>\n      <td>-0.274411</td>\n      <td>-0.501291</td>\n      <td>7.340629</td>\n      <td>0.008320</td>\n      <td>4.805401</td>\n      <td>1.506268</td>\n      <td>0.959678</td>\n      <td>1.0</td>\n      <td>6.0</td>\n      <td>905.0</td>\n    </tr>\n    <tr>\n      <th>24</th>\n      <td>265.745697</td>\n      <td>75.728958</td>\n      <td>429.191040</td>\n      <td>78.137489</td>\n      <td>-0.306803</td>\n      <td>-0.457842</td>\n      <td>7.340423</td>\n      <td>0.007949</td>\n      <td>4.536758</td>\n      <td>1.458325</td>\n      <td>0.960060</td>\n      <td>1.0</td>\n      <td>6.0</td>\n      <td>905.0</td>\n    </tr>\n    <tr>\n      <th>25</th>\n      <td>262.950531</td>\n      <td>75.952957</td>\n      <td>429.247955</td>\n      <td>76.305687</td>\n      <td>-0.254103</td>\n      <td>-0.488241</td>\n      <td>7.339435</td>\n      <td>0.009626</td>\n      <td>4.461632</td>\n      <td>1.487526</td>\n      <td>0.958357</td>\n      <td>1.0</td>\n      <td>6.0</td>\n      <td>905.0</td>\n    </tr>\n    <tr>\n      <th>26</th>\n      <td>265.304779</td>\n      <td>76.918640</td>\n      <td>427.883026</td>\n      <td>67.931236</td>\n      <td>-0.145125</td>\n      <td>-0.576378</td>\n      <td>7.339627</td>\n      <td>0.011941</td>\n      <td>4.584301</td>\n      <td>1.477629</td>\n      <td>0.956270</td>\n      <td>1.0</td>\n      <td>6.0</td>\n      <td>905.0</td>\n    </tr>\n    <tr>\n      <th>27</th>\n      <td>264.465485</td>\n      <td>75.766212</td>\n      <td>429.257751</td>\n      <td>64.448708</td>\n      <td>-0.247660</td>\n      <td>-0.479148</td>\n      <td>7.340192</td>\n      <td>0.012306</td>\n      <td>4.479379</td>\n      <td>1.511395</td>\n      <td>0.958345</td>\n      <td>1.0</td>\n      <td>6.0</td>\n      <td>905.0</td>\n    </tr>\n    <tr>\n      <th>28</th>\n      <td>264.112244</td>\n      <td>74.125839</td>\n      <td>427.946930</td>\n      <td>69.634697</td>\n      <td>-0.240940</td>\n      <td>-0.550824</td>\n      <td>7.342132</td>\n      <td>0.012082</td>\n      <td>4.480668</td>\n      <td>1.422559</td>\n      <td>0.959262</td>\n      <td>1.0</td>\n      <td>6.0</td>\n      <td>905.0</td>\n    </tr>\n    <tr>\n      <th>29</th>\n      <td>266.317078</td>\n      <td>78.112625</td>\n      <td>429.407440</td>\n      <td>70.821808</td>\n      <td>-0.310658</td>\n      <td>-0.565482</td>\n      <td>7.337721</td>\n      <td>0.010738</td>\n      <td>4.527917</td>\n      <td>1.534255</td>\n      <td>0.955630</td>\n      <td>1.0</td>\n      <td>6.0</td>\n      <td>905.0</td>\n    </tr>\n    <tr>\n      <th>30</th>\n      <td>265.968384</td>\n      <td>76.798508</td>\n      <td>428.666229</td>\n      <td>72.655617</td>\n      <td>-0.256625</td>\n      <td>-0.517878</td>\n      <td>7.339447</td>\n      <td>0.010150</td>\n      <td>4.474374</td>\n      <td>1.491506</td>\n      <td>0.954555</td>\n      <td>1.0</td>\n      <td>6.0</td>\n      <td>905.0</td>\n    </tr>\n    <tr>\n      <th>31</th>\n      <td>260.633698</td>\n      <td>77.082474</td>\n      <td>429.400513</td>\n      <td>73.604996</td>\n      <td>-0.270387</td>\n      <td>-0.461849</td>\n      <td>7.337010</td>\n      <td>0.011422</td>\n      <td>4.314861</td>\n      <td>1.547104</td>\n      <td>0.956882</td>\n      <td>1.0</td>\n      <td>6.0</td>\n      <td>905.0</td>\n    </tr>\n    <tr>\n      <th>32</th>\n      <td>252.926437</td>\n      <td>74.617134</td>\n      <td>428.042023</td>\n      <td>60.034966</td>\n      <td>-0.246098</td>\n      <td>-0.285479</td>\n      <td>7.337217</td>\n      <td>0.011335</td>\n      <td>3.999092</td>\n      <td>1.464537</td>\n      <td>0.953665</td>\n      <td>1.0</td>\n      <td>6.0</td>\n      <td>905.0</td>\n    </tr>\n    <tr>\n      <th>33</th>\n      <td>260.801971</td>\n      <td>75.984428</td>\n      <td>429.453308</td>\n      <td>62.661476</td>\n      <td>-0.267276</td>\n      <td>-0.403928</td>\n      <td>7.338429</td>\n      <td>0.012124</td>\n      <td>4.613441</td>\n      <td>1.459497</td>\n      <td>0.954938</td>\n      <td>1.0</td>\n      <td>6.0</td>\n      <td>905.0</td>\n    </tr>\n    <tr>\n      <th>34</th>\n      <td>263.676178</td>\n      <td>76.418266</td>\n      <td>428.838013</td>\n      <td>71.243927</td>\n      <td>-0.271153</td>\n      <td>-0.418546</td>\n      <td>7.338952</td>\n      <td>0.011757</td>\n      <td>4.556004</td>\n      <td>1.546820</td>\n      <td>0.958030</td>\n      <td>1.0</td>\n      <td>6.0</td>\n      <td>905.0</td>\n    </tr>\n    <tr>\n      <th>35</th>\n      <td>264.427094</td>\n      <td>77.630318</td>\n      <td>429.071564</td>\n      <td>64.128235</td>\n      <td>-0.331851</td>\n      <td>-0.409968</td>\n      <td>7.337381</td>\n      <td>0.009888</td>\n      <td>4.348506</td>\n      <td>1.506173</td>\n      <td>0.955049</td>\n      <td>1.0</td>\n      <td>6.0</td>\n      <td>905.0</td>\n    </tr>\n    <tr>\n      <th>36</th>\n      <td>263.889709</td>\n      <td>77.475731</td>\n      <td>428.953125</td>\n      <td>73.565742</td>\n      <td>-0.339742</td>\n      <td>-0.514766</td>\n      <td>7.337457</td>\n      <td>0.011171</td>\n      <td>4.408800</td>\n      <td>1.568292</td>\n      <td>0.954038</td>\n      <td>1.0</td>\n      <td>6.0</td>\n      <td>905.0</td>\n    </tr>\n    <tr>\n      <th>37</th>\n      <td>263.061310</td>\n      <td>77.707405</td>\n      <td>428.944427</td>\n      <td>55.706573</td>\n      <td>-0.304892</td>\n      <td>-0.534207</td>\n      <td>7.337033</td>\n      <td>0.013201</td>\n      <td>4.503954</td>\n      <td>1.480865</td>\n      <td>0.953223</td>\n      <td>1.0</td>\n      <td>6.0</td>\n      <td>905.0</td>\n    </tr>\n    <tr>\n      <th>38</th>\n      <td>266.201263</td>\n      <td>76.443214</td>\n      <td>428.907684</td>\n      <td>78.037781</td>\n      <td>-0.264317</td>\n      <td>-0.493111</td>\n      <td>7.339909</td>\n      <td>0.012133</td>\n      <td>4.659172</td>\n      <td>1.429095</td>\n      <td>0.953728</td>\n      <td>1.0</td>\n      <td>6.0</td>\n      <td>905.0</td>\n    </tr>\n    <tr>\n      <th>39</th>\n      <td>266.670563</td>\n      <td>77.877907</td>\n      <td>429.419067</td>\n      <td>62.633194</td>\n      <td>-0.295874</td>\n      <td>-0.444934</td>\n      <td>7.338099</td>\n      <td>0.011067</td>\n      <td>4.734904</td>\n      <td>1.612803</td>\n      <td>0.956193</td>\n      <td>1.0</td>\n      <td>6.0</td>\n      <td>905.0</td>\n    </tr>\n    <tr>\n      <th>40</th>\n      <td>265.402222</td>\n      <td>76.728661</td>\n      <td>429.451813</td>\n      <td>75.321281</td>\n      <td>-0.343685</td>\n      <td>-0.473510</td>\n      <td>7.338890</td>\n      <td>0.010971</td>\n      <td>4.699283</td>\n      <td>1.463090</td>\n      <td>0.954507</td>\n      <td>1.0</td>\n      <td>6.0</td>\n      <td>905.0</td>\n    </tr>\n  </tbody>\n</table>\n</div>"
     },
     "metadata": {},
     "execution_count": 16
    }
   ],
   "source": [
    "X_b"
   ]
  },
  {
   "cell_type": "code",
   "execution_count": 4,
   "metadata": {},
   "outputs": [],
   "source": [
    "x = pd.read_csv('csv\\Xb_train.csv')"
   ]
  },
  {
   "cell_type": "code",
   "execution_count": 8,
   "metadata": {},
   "outputs": [
    {
     "output_type": "execute_result",
     "data": {
      "text/plain": "0.0    14423\nName: ind, dtype: int64"
     },
     "metadata": {},
     "execution_count": 8
    }
   ],
   "source": [
    "x.ind.value_counts()"
   ]
  },
  {
   "cell_type": "code",
   "execution_count": 2,
   "outputs": [
    {
     "name": "stderr",
     "output_type": "stream",
     "text": [
      "100%|██████████| 1875/1875 [42:51<00:00,  1.37s/it]\n"
     ]
    }
   ],
   "source": [
    "from config import TEST_WAV_DIR,DCASE_CSV_DIR_TEST\n",
    "directory = TEST_WAV_DIR\n",
    "files = pathlib.Path(directory)\n",
    "files = list(files.glob('*.wav'))\n",
    "count_good=0\n",
    "count_bad=0\n",
    "for num,wav in tqdm(enumerate(files),total=len(files)):\n",
    "    name=wav.stem.split('_')[0]\n",
    "    id_wav=int(wav.stem.split('_')[2])\n",
    "    num_id_wav=int(wav.stem.split('_')[3])\n",
    "    if name=='normal':\n",
    "        y=1\n",
    "    else:\n",
    "        y=0\n",
    "    bbc=Buono_Brutto_Cattivo(wav)\n",
    "    _,gf,_,bf=bbc.features_generator()\n",
    "    for frame in gf:\n",
    "        if count_good==0:\n",
    "            col=list(gf[frame].keys())+['y']+['ind']+['num']\n",
    "            data=np.zeros((len(files)*bbc.segment_number,len(col)))\n",
    "            X_g=pd.DataFrame(data)\n",
    "            X_g.columns=col\n",
    "        X_g.loc[count_good,list(gf[frame].keys())]=list(gf[frame].values())\n",
    "        X_g.loc[count_good,'y']=y\n",
    "        X_g.loc[count_good,'ind']=id_wav\n",
    "        X_g.loc[count_good,'num']=num_id_wav\n",
    "        count_good+=1\n",
    "    for frame in bf:\n",
    "        if count_bad==0:\n",
    "            col=list(bf[frame].keys())+['y']+['ind']+['num']\n",
    "            data=np.zeros((len(files)*bbc.segment_number,len(col)))\n",
    "            X_b=pd.DataFrame(data)\n",
    "            X_b.columns=col\n",
    "        X_b.loc[count_bad,list(bf[frame].keys())]=list(bf[frame].values())\n",
    "        X_b.loc[count_bad,'y']=y\n",
    "        X_b.loc[count_bad,'ind']=id_wav\n",
    "        X_b.loc[count_bad,'num']=num_id_wav\n",
    "        count_bad+=1"
   ],
   "metadata": {
    "collapsed": false,
    "pycharm": {
     "name": "#%%\n"
    }
   }
  },
  {
   "cell_type": "code",
   "execution_count": 3,
   "outputs": [],
   "source": [
    "X_g=X_g.loc[~(X_g==0).all(axis=1)]\n",
    "X_g.to_csv('Xg_test.csv')\n",
    "X_b=X_g.loc[~(X_b==0).all(axis=1)]\n",
    "X_b.to_csv('Xb_test.csv')"
   ],
   "metadata": {
    "collapsed": false,
    "pycharm": {
     "name": "#%%\n"
    }
   }
  },
  {
   "cell_type": "code",
   "execution_count": 1,
   "outputs": [
    {
     "name": "stdout",
     "output_type": "stream",
     "text": [
      "         mean        std         max        min      skew  kurtosis   entropy  \\\n",
      "0  219.998703  55.862926  429.440979  70.825111  0.051904  0.789913  7.350475   \n",
      "1  218.493210  55.428898  427.110535  56.467548  0.278100  1.126898  7.351100   \n",
      "2  215.893570  53.205425  425.438690  68.999092  0.106679  0.847886  7.352636   \n",
      "3  216.617233  53.696064  427.965149  65.060959  0.061846  0.772063  7.352137   \n",
      "4  217.644852  55.697174  426.797699  59.425156  0.122105  0.978640  7.350031   \n",
      "\n",
      "        fsd       fsf       fss    fsflat    y  ind  num  \n",
      "0  0.008639  4.708440  0.678946  0.967746  1.0  0.0  0.0  \n",
      "1  0.009159  5.414819  0.680757  0.974483  1.0  0.0  0.0  \n",
      "2  0.010441  4.536380  0.879031  0.972712  1.0  0.0  0.0  \n",
      "3  0.007336  4.390009  0.775871  0.972706  1.0  0.0  0.0  \n",
      "4  0.008588  5.064469  0.785413  0.968105  1.0  0.0  0.0  \n",
      "         mean        std         max        min      skew  kurtosis   entropy  \\\n",
      "0  219.998703  55.862926  429.440979  70.825111  0.051904  0.789913  7.350475   \n",
      "1  218.493210  55.428898  427.110535  56.467548  0.278100  1.126898  7.351100   \n",
      "2  215.893570  53.205425  425.438690  68.999092  0.106679  0.847886  7.352636   \n",
      "3  216.617233  53.696064  427.965149  65.060959  0.061846  0.772063  7.352137   \n",
      "4  217.644852  55.697174  426.797699  59.425156  0.122105  0.978640  7.350031   \n",
      "\n",
      "        fsd       fsf       fss    fsflat  \n",
      "0  0.008639  4.708440  0.678946  0.967746  \n",
      "1  0.009159  5.414819  0.680757  0.974483  \n",
      "2  0.010441  4.536380  0.879031  0.972712  \n",
      "3  0.007336  4.390009  0.775871  0.972706  \n",
      "4  0.008588  5.064469  0.785413  0.968105  \n"
     ]
    }
   ],
   "source": [
    "from sklearn.svm import OneClassSVM\n",
    "from sklearn.preprocessing import StandardScaler\n",
    "import seaborn as sns\n",
    "from sklearn.decomposition import PCA\n",
    "import numpy as np\n",
    "import pandas as pd\n",
    "from sklearn.metrics import roc_auc_score,f1_score\n",
    "X=pd.read_csv(r'D:\\Ботать\\Работа\\dcase\\dev_data\\csv_5\\train\\Xg_train.csv',index_col=0,header=0)\n",
    "Xb=pd.read_csv(r'D:\\Ботать\\Работа\\dcase\\dev_data\\csv_5\\train\\Xb_train.csv',index_col=0,header=0)\n",
    "X_test=pd.read_csv(r'D:\\Ботать\\Работа\\dcase\\dev_data\\csv_5\\test\\Xg_test.csv',index_col=0,header=0)\n",
    "Xb_test=pd.read_csv(r'D:\\Ботать\\Работа\\dcase\\dev_data\\csv_5\\test\\Xg_test.csv',index_col=0,header=0)\n",
    "print(X.head())\n",
    "Y=X[['y',  'ind',  'num' ]]\n",
    "X=X.drop(columns=['y',  'ind',  'num' ])\n",
    "Yb=Xb[['y',  'ind',  'num' ]]\n",
    "Xb=Xb.drop(columns=['y',  'ind',  'num' ])\n",
    "Y_test=X_test[['y',  'ind',  'num' ]]\n",
    "X_test=X_test.drop(columns=['y',  'ind',  'num' ])\n",
    "Yb_test=Xb_test[['y',  'ind',  'num' ]]\n",
    "Xb_test=Xb_test.drop(columns=['y',  'ind',  'num' ])\n",
    "print(X.head())"
   ],
   "metadata": {
    "collapsed": false,
    "pycharm": {
     "name": "#%%\n"
    }
   }
  },
  {
   "cell_type": "code",
   "execution_count": 2,
   "outputs": [],
   "source": [
    "sc=StandardScaler()\n",
    "sc.fit(X)\n",
    "X=sc.transform(X)\n",
    "X_test=sc.transform(X_test)\n",
    "pca = PCA(n_components=2)\n",
    "fit = pca.fit(X)\n",
    "X = fit.transform(X)\n",
    "X_test=fit.transform(X_test)"
   ],
   "metadata": {
    "collapsed": false,
    "pycharm": {
     "name": "#%%\n"
    }
   }
  },
  {
   "cell_type": "code",
   "execution_count": null,
   "outputs": [],
   "source": [
    "model0=OneClassSVM()\n",
    "estim=model0.fit(X)"
   ],
   "metadata": {
    "collapsed": false,
    "pycharm": {
     "name": "#%%\n",
     "is_executing": true
    }
   }
  },
  {
   "cell_type": "code",
   "execution_count": null,
   "outputs": [],
   "source": [
    "res=estim.predict(X_test)\n",
    "y_test=Y_test['y']\n",
    "y_test[y_test == 0] = -1\n",
    "print(roc_auc_score(y_test,res))"
   ],
   "metadata": {
    "collapsed": false,
    "pycharm": {
     "name": "#%%\n"
    }
   }
  }
 ],
 "metadata": {
  "kernelspec": {
   "display_name": "Python 3",
   "language": "python",
   "name": "python3"
  },
  "language_info": {
   "codemirror_mode": {
    "name": "ipython",
    "version": 2
   },
   "file_extension": ".py",
   "mimetype": "text/x-python",
   "name": "python",
   "nbconvert_exporter": "python",
   "pygments_lexer": "ipython2",
   "version": "3.7.6-final"
  }
 },
 "nbformat": 4,
 "nbformat_minor": 0
}